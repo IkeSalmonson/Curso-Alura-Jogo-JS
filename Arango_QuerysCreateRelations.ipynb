{
  "nbformat": 4,
  "nbformat_minor": 0,
  "metadata": {
    "colab": {
      "name": "Arango_QuerysCreateRelations.ipynb",
      "provenance": [],
      "toc_visible": true,
      "authorship_tag": "ABX9TyP5i71LecphwX+WfWy/Jts7",
      "include_colab_link": true
    },
    "kernelspec": {
      "name": "python3",
      "display_name": "Python 3"
    },
    "language_info": {
      "name": "python"
    }
  },
  "cells": [
    {
      "cell_type": "markdown",
      "metadata": {
        "id": "view-in-github",
        "colab_type": "text"
      },
      "source": [
        "<a href=\"https://colab.research.google.com/github/IkeSalmonson/Curso-Alura-Jogo-JS/blob/master/Arango_QuerysCreateRelations.ipynb\" target=\"_parent\"><img src=\"https://colab.research.google.com/assets/colab-badge.svg\" alt=\"Open In Colab\"/></a>"
      ]
    },
    {
      "cell_type": "markdown",
      "metadata": {
        "id": "rnNTBrZ8Eg4e"
      },
      "source": [
        "#Install, imports, setup conexão ao DB "
      ]
    },
    {
      "cell_type": "code",
      "metadata": {
        "colab": {
          "base_uri": "https://localhost:8080/"
        },
        "id": "fYKYYD6hEc0f",
        "outputId": "6710e559-31cd-4993-c9ea-30fc293229fd"
      },
      "source": [
        "!pip install pyArango --quiet\n",
        "\n",
        "from pyArango.connection import *\n",
        "\n",
        "from pyArango.collection import *\n",
        "    "
      ],
      "execution_count": null,
      "outputs": [
        {
          "output_type": "stream",
          "name": "stdout",
          "text": [
            "\u001b[?25l\r\u001b[K     |██████▎                         | 10 kB 25.7 MB/s eta 0:00:01\r\u001b[K     |████████████▌                   | 20 kB 33.9 MB/s eta 0:00:01\r\u001b[K     |██████████████████▉             | 30 kB 38.6 MB/s eta 0:00:01\r\u001b[K     |█████████████████████████       | 40 kB 40.1 MB/s eta 0:00:01\r\u001b[K     |███████████████████████████████▍| 51 kB 20.9 MB/s eta 0:00:01\r\u001b[K     |████████████████████████████████| 52 kB 778 kB/s \n",
            "\u001b[K     |████████████████████████████████| 60 kB 6.4 MB/s \n",
            "\u001b[K     |████████████████████████████████| 251 kB 88.0 MB/s \n",
            "\u001b[?25h"
          ]
        }
      ]
    },
    {
      "cell_type": "code",
      "metadata": {
        "id": "fc5KnylKT5Tw"
      },
      "source": [
        "from IPython.display import clear_output\n",
        "\n",
        "import sys \n",
        "def confirmarAcao():\n",
        "  continua = input('s para confirmar o comando \\n').lower() \n",
        "  if continua == 's': \n",
        "    print(\"Iniciando \\n\")\n",
        "  else:\n",
        "    #print(\"script abortado\")\n",
        "    sys.exit(\"script abortado pela função confirmarAcao\")\n"
      ],
      "execution_count": null,
      "outputs": []
    },
    {
      "cell_type": "code",
      "metadata": {
        "colab": {
          "base_uri": "https://localhost:8080/"
        },
        "id": "D0uizcKJHaj2",
        "outputId": "480a3714-9cb1-4864-e5ef-12871808ef36"
      },
      "source": [
        "confirmarAcao() \n",
        "\n",
        "#Setup conexão e autenticação com Database\n",
        "ipConn = input('ip') # Last ip  34.72.247.198\n",
        "\n",
        "passwordConn = input('password')\n",
        "\n",
        "conn = Connection(arangoURL='http://'+ipConn+':8529/',username=\"root\", password=passwordConn)\n",
        "\n",
        "clear_output() \n",
        "print('connected to '+ conn.getDatabasesURL())"
      ],
      "execution_count": null,
      "outputs": [
        {
          "output_type": "stream",
          "name": "stdout",
          "text": [
            "connected to http://34.121.99.7:8529/_api/user/root/database\n"
          ]
        }
      ]
    },
    {
      "cell_type": "markdown",
      "metadata": {
        "id": "6ljjqfKBEhGD"
      },
      "source": [
        "# Exemplo funcionamento: "
      ]
    },
    {
      "cell_type": "code",
      "metadata": {
        "colab": {
          "base_uri": "https://localhost:8080/"
        },
        "id": "2P--DfQpEhPW",
        "outputId": "10934a41-3c6b-4b23-91c7-f39cb4d7e485"
      },
      "source": [
        "#Exemplo do PyArango\n",
        "print(conn.getDatabasesURL())    \n",
        "db = conn[\"aura_database\"]\n",
        "\n",
        "aql = ''' FOR pe in PE LIMIT 10 RETURN pe '''\n",
        "\n",
        "queryResult = db.AQLQuery(aql,rawResults=True)\n",
        "for key in queryResult:\n",
        "  print(key)"
      ],
      "execution_count": null,
      "outputs": [
        {
          "output_type": "stream",
          "name": "stdout",
          "text": [
            "http://34.71.150.255:8529/_api/user/root/database\n",
            "{'_key': '206558435', '_id': 'PE/206558435', '_rev': '_c3iTLkW---', 'uniqueID': 'THE UNDERGROUND WORLD CORPORATION99999999999999', 'nome_socio': 'THE UNDERGROUND WORLD CORPORATION'}\n",
            "{'_key': '206558436', '_id': 'PE/206558436', '_rev': '_c3iTLkW--_', 'uniqueID': 'ULRICH PAUL MEIERHANS99999999999999', 'nome_socio': 'ULRICH PAUL MEIERHANS'}\n",
            "{'_key': '206558437', '_id': 'PE/206558437', '_rev': '_c3iTLkW--A', 'uniqueID': 'ALBINO BENACCHIO99999999999999', 'nome_socio': 'ALBINO BENACCHIO'}\n",
            "{'_key': '206558438', '_id': 'PE/206558438', '_rev': '_c3iTLkW--B', 'uniqueID': 'COMBE INTERNATIONAL LTD.99999999999999', 'nome_socio': 'COMBE INTERNATIONAL LTD.'}\n",
            "{'_key': '206558439', '_id': 'PE/206558439', '_rev': '_c3iTLkW--C', 'uniqueID': 'HAMBECK INTERNACIONAL SOCIEDAD ANONIMA99999999999999', 'nome_socio': 'HAMBECK INTERNACIONAL SOCIEDAD ANONIMA'}\n",
            "{'_key': '206558440', '_id': 'PE/206558440', '_rev': '_c3iTLkW--D', 'uniqueID': 'AVENTIS CROPSCIENCE S/A99999999999999', 'nome_socio': 'AVENTIS CROPSCIENCE S/A'}\n",
            "{'_key': '206558441', '_id': 'PE/206558441', '_rev': '_c3iTLkW--E', 'uniqueID': 'KROHN TRADING (L.C.)99999999999999', 'nome_socio': 'KROHN TRADING (L.C.)'}\n",
            "{'_key': '206558442', '_id': 'PE/206558442', '_rev': '_c3iTLkW--F', 'uniqueID': 'GIDMOR INTERNATIONAL S/A99999999999999', 'nome_socio': 'GIDMOR INTERNATIONAL S/A'}\n",
            "{'_key': '206558443', '_id': 'PE/206558443', '_rev': '_c3iTLkW--G', 'uniqueID': 'MOTOROLA INC.99999999999999', 'nome_socio': 'MOTOROLA INC.'}\n",
            "{'_key': '206558444', '_id': 'PE/206558444', '_rev': '_c3iTLkW--H', 'uniqueID': 'TUXWORD S.A99999999999999', 'nome_socio': 'TUXWORD S.A'}\n"
          ]
        }
      ]
    },
    {
      "cell_type": "code",
      "metadata": {
        "id": "s_gM9WBfX7X3",
        "colab": {
          "base_uri": "https://localhost:8080/"
        },
        "outputId": "d8f01924-f460-41fb-c158-b8024c743d88"
      },
      "source": [
        " \n",
        "db = conn[\"aura_database\"]\n",
        "\n",
        "aql = ''' for pf in PF\n",
        "filter pf.socio_id == \"SUDHIR RAGHOENATH***751551**\"\n",
        "\n",
        "return pf '''\n",
        "\n",
        "queryResult = db.AQLQuery(aql,rawResults=True)\n",
        "for key in queryResult:\n",
        "  print(key)"
      ],
      "execution_count": null,
      "outputs": [
        {
          "output_type": "stream",
          "name": "stdout",
          "text": [
            "{'_key': '428100113', '_id': 'PF/428100113', '_rev': '_c4J4Via--h', 'socio_id': 'SUDHIR RAGHOENATH***751551**', 'nome': 'SUDHIR RAGHOENATH', 'cpf': 74575155187, 'data_nascimento': '1971-07-09'}\n"
          ]
        }
      ]
    },
    {
      "cell_type": "markdown",
      "source": [
        "# Atualizar coleções\n"
      ],
      "metadata": {
        "id": "u1dWN-szjYKA"
      }
    },
    {
      "cell_type": "markdown",
      "source": [
        "Criar indices nas coleções: \n",
        "PF_Nov21 > nome_socio , cpf > index:nome_socio_e_cpf\n",
        " \n",
        "\n",
        "1. Limpar Socios duplicados \n",
        "2. Salvar PF homonimos de PF_nov21 e retirar dela. \n",
        "3. Atualizar PF com PF_nov21[sem homonimos]\n",
        "4. Atualizar PJ trocando nome com PJ_nov21\n",
        "5. Atualizar PE\n",
        "6. Criar novo Owns  \n"
      ],
      "metadata": {
        "id": "S6heBT88j9Hd"
      }
    },
    {
      "cell_type": "markdown",
      "source": [
        "# Limpar ocorrencias duplicadas em Socios\n",
        "\n",
        "1 - identificar duplicados em socios no BQ \n",
        " \n",
        "\n",
        "```\n",
        "SELECT cnpj_raiz, cpf_cnpj_socio, nome_socio, count(*) \n",
        "FROM `mvp-capivaura.empresas.Socio` \n",
        "group by cnpj_raiz, cpf_cnpj_socio, nome_socio \n",
        "HAVING count(*)> 1\n",
        "```\n",
        "\n",
        " "
      ],
      "metadata": {
        "id": "Tvj4dupbgBL0"
      }
    },
    {
      "cell_type": "code",
      "source": [
        "# Pesquisar relações duplicadas na tabela socios, colocar em socios_duplicadas e apagar. \n",
        "lista_cnpjs_com_socio_duplicado = [\n",
        "                                  94300738,\n",
        "                                  02771736,\n",
        "                                  08071072,\n",
        "                                  02872412,\n",
        "                                  03373780,\n",
        "                                  08025149,\n",
        "                                  00205027,\n",
        "                                  01590753,\n",
        "                                  50108554,\n",
        "                                  03647352,\n",
        "                                  50108554,\n",
        "                                  08071072,\n",
        "                                  03373780,\n",
        "                                  03638468,\n",
        "                                  03817497,\n",
        "                                  51183341,\n",
        "                                  31603418,\n",
        "                                  03638468,\n",
        "                                  43251297,\n",
        "                                  03647352,\n",
        "                                  43251297,\n",
        "                                  08071072,\n",
        "                                  01639615,\n",
        "                                  03004973,\n",
        "                                  03491249,\n",
        "                                  00643187,\n",
        "                                  71828867,\n",
        "                                  03156001,\n",
        "                                  01025206,\n",
        "                                  03044458,\n",
        "                                  08071072,\n",
        "                                  08071072,\n",
        "                                  ]\n",
        "\n",
        "\n",
        "\n",
        "db = conn[\"aura_database\"]\n",
        "\n",
        "aql = '''\n",
        " let listacnpj = [@@lista_cnpjs_com_socio_duplicado ]   //Matriz FRANCESCHINI E MIRANDA ADVOGADOS\n",
        "\n",
        "\n",
        "let socios_0 = (\n",
        "for socio in Socios0\n",
        "filter socio.cnpj_raiz in listacnpj \n",
        "return socio )\n",
        "\n",
        "let socios_1 = (\n",
        "for socio in Socios1\n",
        "filter socio.cnpj_raiz in listacnpj \n",
        "return socio )\n",
        "\n",
        "let socios_2 = (\n",
        "for socio in Socios2\n",
        "filter socio.cnpj_raiz in listacnpj \n",
        "return socio )\n",
        "\n",
        "let socios_3 = (\n",
        "for socio in Socios3\n",
        "filter socio.cnpj_raiz in listacnpj \n",
        "return socio )\n",
        "\n",
        "let socios_4 = (\n",
        "for socio in Socios4\n",
        "filter socio.cnpj_raiz in listacnpj \n",
        "return socio )\n",
        "let socios_5 = (\n",
        "for socio in Socios5\n",
        "filter socio.cnpj_raiz in listacnpj \n",
        "return socio )\n",
        "\n",
        "\n",
        "let dataArray =[]\n",
        "let data = append(dataArray, [ socios_0, socios_1,  socios_2 ,socios_3 ,socios_4,socios_5])\n",
        "return data\n",
        "'''  "
      ],
      "metadata": {
        "id": "8XjZY65AgJUN"
      },
      "execution_count": null,
      "outputs": []
    },
    {
      "cell_type": "markdown",
      "metadata": {
        "id": "VN-l2fah1ns6"
      },
      "source": [
        "#Criar coleção PF homonimos \n"
      ]
    },
    {
      "cell_type": "code",
      "metadata": {
        "id": "08VBzl1z1tJO"
      },
      "source": [
        "# v2 - faz sort pf.socio_id , comparar 2 a 2 e adicionar para homonimos quando ocorrer \n",
        "# plano: batch de lista de socios_id, deixar 1 socio de sobreposição por batch para garantir não ter erros de união das listas\n",
        "# aprendizado: A sobreposição precisava ser de 5 para garantir não perder nada. Opção de melhoria https://www.arangodb.com/docs/stable/aql/operations-window.html\n",
        "\n",
        "db = conn[\"aura_database\"]\n",
        "\n",
        "aql = '''  \n",
        "FOR pf IN @@collection\n",
        " \n",
        "FILTER  pf.socio_id != null\n",
        "SORT pf.socio_id ASC\n",
        "limit @offset , @count\n",
        "\n",
        "COLLECT socio_id = pf.socio_id INTO homonimos = {\"nome\":pf.socio_id,\"cpf\":pf.cpf, _id : pf._id,  } \n",
        "  \n",
        "filter LENGTH(homonimos) > 1\n",
        "\n",
        "INSERT {socio_id:socio_id, info:homonimos[*]} INTO PF_homonimos OPTIONS { ignoreErrors: true } \n",
        "return NEW\n",
        "'''  \n",
        " \n",
        " \n",
        "aql_max_range = ''' for pf in @@collection\n",
        "filter pf.socio_id!= null \n",
        "collect with count into counting\n",
        "return counting\n",
        "''' \n",
        "\n",
        "\n",
        "count = 1000006  # 1 no final necessário para funcionar com offset%1000 \n",
        "\n",
        "# identificar limite e inciar offset count \n",
        "bindVar_max_range = {\"@collection\":\"PF\"}\n",
        "queryResult_len = db.AQLQuery(aql_max_range,rawResults=True,bindVars=bindVar_max_range)\n",
        "for key in queryResult_len:\n",
        "  a = key  \n",
        "  break \n",
        "max_range = a\n",
        "print('PF com socio_id'+' length '+ str(max_range))\n",
        "for j in range(0,max_range+1,count-6): #count-6 garante 6 unidade de sobreposição entre resultados. 5 é o maximo de homonimos encontrados. Script original era count-1\n",
        "  offset = j\n",
        "  bindVar = {\"@collection\":\"PF\",\"offset\":offset, \"count\": count }\n",
        "  queryResult = db.AQLQuery(aql,rawResults=True,bindVars=bindVar)\n",
        "  if (offset%1000 == 0):  \n",
        "    print(\"offset atual: \"+str(j))  \n",
        "    print(\"bindVar: \")\n",
        "    print(bindVar)\n",
        "  for key in queryResult:\n",
        "    print(key)\n",
        " "
      ],
      "execution_count": null,
      "outputs": []
    },
    {
      "cell_type": "code",
      "metadata": {
        "id": "2uZToqEYeFaP"
      },
      "source": [
        "#Adicionar stub em PF com  socio_id, adicionar atributo homonimo: True e stub: True para as PF na coleção PF_homonimos\n",
        "confirmarAcao() \n",
        "db = conn[\"aura_database\"]\n",
        "\n",
        "\n",
        "aql_add_stub = ''' \n",
        "FOR pf_h in PF_homonimos\n",
        "SORT pf_h._key asc\n",
        "// Criar stub do homonimo 3\n",
        "INSERT {homonimo: True, stub:True, socio_id: pf_h.socio_id, cpf:pf_h._id} INTO PF OPTIONS { ignoreErrors: true }  RETURN NEW\n",
        "\n",
        "'''   #campo CPF com pf_h._id é necessário pois garante uniqueness de cada entrada \n",
        "\n",
        "queryResult = db.AQLQuery(aql_add_stub,rawResults=True)\n",
        "for key in queryResult:\n",
        "  print(key)\n",
        " "
      ],
      "execution_count": null,
      "outputs": []
    },
    {
      "cell_type": "code",
      "metadata": {
        "id": "E7liOkPX7FlY"
      },
      "source": [
        "#modificar socio_id e adicionar atributo homonimo: True para as PF na coleção PF_homonimos\n",
        "#Melhoria fazer for loop do tamanho do info\n",
        " \n",
        "db = conn[\"aura_database\"]\n",
        " \n",
        " \n",
        "aql_update_pf1 = '''\n",
        "FOR pf_h in PF_homonimos\n",
        "let pf1 = (document(pf_h.info[0]._id))\n",
        "UPDATE pf1 WITH {homonimo: True, socio_id:pf_h._id } INTO PF OPTIONS { ignoreErrors: true } RETURN NEW\n",
        "                  '''\n",
        "\n",
        "\n",
        "\n",
        "queryResult = db.AQLQuery(aql_update_pf1,rawResults=True)\n",
        "for key in queryResult:\n",
        "  print(key)\n",
        "\n",
        "aql_update_pf2= '''\n",
        "FOR pf_h in PF_homonimos\n",
        "let pf2 = (document(pf_h.info[1]._id))\n",
        "UPDATE pf2 WITH {homonimo: True, socio_id:pf_h._id } INTO PF OPTIONS { ignoreErrors: true } RETURN NEW\n",
        "                '''  \n",
        "\n",
        "\n",
        "queryResult = db.AQLQuery(aql_update_pf2,rawResults=True)\n",
        "for key in queryResult:\n",
        "  print(key) \n",
        "\n",
        "\n",
        "## parte 2 \n",
        "aql_update_pf3 = '''\n",
        "FOR pf_h in PF_homonimos\n",
        "filter ENGTH(pf_h.info) >=3\n",
        "let pf1 = (document(pf_h.info[2]._id))\n",
        "UPDATE pf1 WITH {homonimo: True, socio_id:pf_h._id } INTO PF OPTIONS { ignoreErrors: true } RETURN NEW\n",
        "                  '''\n",
        "queryResult = db.AQLQuery(aql_update_pf3,rawResults=True)\n",
        "for key in queryResult:\n",
        "  print(key)\n",
        "\n",
        "aql_update_pf4= '''\n",
        "FOR pf_h in PF_homonimos\n",
        "LENGTH(pf_h.info) >=4\n",
        "let pf2 = (document(pf_h.info[3]._id))\n",
        "UPDATE pf2 WITH {homonimo: True, socio_id:pf_h._id } INTO PF OPTIONS { ignoreErrors: true } RETURN NEW\n",
        "                '''  \n",
        "queryResult = db.AQLQuery(aql_update_pf4,rawResults=True)\n",
        "for key in queryResult:\n",
        "  print(key) \n",
        "\n",
        "aql_update_pf5= '''\n",
        "FOR pf_h in PF_homonimos\n",
        "filter  LENGTH(pf_h.info) >=5\n",
        "let pf2 = (document(pf_h.info[4]._id))\n",
        "UPDATE pf2 WITH {homonimo: True, socio_id:pf_h._id } INTO PF OPTIONS { ignoreErrors: true } RETURN NEW\n",
        "                '''  \n",
        "queryResult = db.AQLQuery(aql_update_pf5,rawResults=True)\n",
        "for key in queryResult:\n",
        "  print(key) \n"
      ],
      "execution_count": null,
      "outputs": []
    },
    {
      "cell_type": "markdown",
      "metadata": {
        "id": "ew-B0umydLrX"
      },
      "source": [
        "# Criar edges coleção Owns"
      ]
    },
    {
      "cell_type": "code",
      "source": [
        ""
      ],
      "metadata": {
        "id": "T5RGL_IyjWgm"
      },
      "execution_count": null,
      "outputs": []
    },
    {
      "cell_type": "code",
      "metadata": {
        "id": "3-_eLRRydSQN",
        "colab": {
          "base_uri": "https://localhost:8080/"
        },
        "outputId": "24a36af7-ba4e-4458-f60b-16e76405282e"
      },
      "source": [
        "# teste criar relações PJ PJ v1\n",
        "#v1 - adicionar relação a Owns_teste - ignora empresas sem CNPJ na base PJ \n",
        "# Sem limite não termina em 4h33m\n",
        "\n",
        "db = conn[\"aura_database\"]\n",
        "\n",
        "aql = ''' \n",
        "WITH PJ \n",
        "\n",
        "// Transforma os dados de Socios para compativel com PJ por comparação de cnpj\n",
        "\n",
        "FOR socio in @@socios_collection\n",
        "SORT socio._key asc \n",
        "  \n",
        "filter socio.tipo_socio.codigo == \"1\"\n",
        "limit @offset , @count\n",
        "\n",
        "let socio_cnpj_to =socio.cnpj\n",
        "let socio_uniqueID = socio.uniqueID\n",
        "let socio_cnpj_from = TO_STRING(TO_NUMBER(socio.cpf_cnpj_socio))\n",
        "\n",
        "// Encontrar socio baseado em tipo socio\n",
        "let pj_to = FIRST( FOR pj in PJ\n",
        "                filter socio_cnpj_to == pj.cnpj\n",
        "                return pj._id)\n",
        "\n",
        "let pj_from = FIRST( FOR pj in PJ\n",
        "                filter socio.tipo_socio.codigo == \"1\" \n",
        "                filter socio_cnpj_from == pj.cnpj\n",
        "                return pj._id)\n",
        "\n",
        "filter  pj_to != null and pj_from != null   //ignora empresas sem CNPJ na base PJ \n",
        "\n",
        "  \n",
        "/*\n",
        "return {socio:socio,_to:pj_to, _from:pj_from,tipo_socio:socio.tipo_socio, qualificacao_socio:socio.qualificacao_socio}\n",
        "*/\n",
        "INSERT {_to:pj_to, _from:pj_from,tipo_socio:socio.tipo_socio, qualificacao_socio:socio.qualificacao_socio} INTO Owns OPTIONS { ignoreErrors: true } \n",
        " \n",
        "return NEW \n",
        "'''\n",
        "\n",
        "aql_len = ''' for socio in @@socios_collection\n",
        "filter socio.tipo_socio.codigo == \"1\"\n",
        "collect with count into counting\n",
        "return counting\n",
        "'''\n",
        "\n",
        "#queryResult = db.AQLQuery(aql,rawResults=True)\n",
        "count = 100000\n",
        "#socios 0 - 7\n",
        "for i in range(8): \n",
        "  socio = \"Socios\"+str(i)\n",
        "# identificar limite e inciar offset count \n",
        "  bindVar_len = {\"@socios_collection\":socio}\n",
        "  queryResult_len = db.AQLQuery(aql_len,rawResults=True,bindVars=bindVar_len)\n",
        "  for key in queryResult_len:\n",
        "    a = key  \n",
        "    break \n",
        "  max_range = a\n",
        "  print(socio+' length '+ str(max_range))\n",
        "  for j in range(0,max_range,count):\n",
        "    offset = j\n",
        "    bindVar = {\"@socios_collection\":socio,\"offset\":offset, \"count\": count }\n",
        "    queryResult = db.AQLQuery(aql,rawResults=True,bindVars=bindVar)\n",
        "    for key in queryResult:\n",
        "        print(\"offset atual: \"+str(j))\n",
        "        print(key)\n",
        "        break\n"
      ],
      "execution_count": null,
      "outputs": [
        {
          "output_type": "stream",
          "name": "stdout",
          "text": [
            "Socios0 length 100854\n",
            "offset atual: 0\n",
            "{'_key': '544925021', '_id': 'Owns/544925021', '_from': 'PJ/505223907', '_to': 'PJ/538112637', '_rev': '_d-Tdbg----', 'tipo_socio': {'codigo': '1', 'descricao': 'Pessoa Jurídica'}, 'qualificacao_socio': {'codigo': '22', 'descricao': 'Sócio'}}\n",
            "offset atual: 100000\n",
            "{'_key': '545023812', '_id': 'Owns/545023812', '_from': 'PJ/534140227', '_to': 'PJ/530896169', '_rev': '_d-TeIhu---', 'tipo_socio': {'codigo': '1', 'descricao': 'Pessoa Jurídica'}, 'qualificacao_socio': {'codigo': '22', 'descricao': 'Sócio'}}\n",
            "Socios1 length 100595\n",
            "offset atual: 0\n",
            "{'_key': '545024672', '_id': 'Owns/545024672', '_from': 'PJ/518680159', '_to': 'PJ/538672315', '_rev': '_d-TeNEG---', 'tipo_socio': {'codigo': '1', 'descricao': 'Pessoa Jurídica'}, 'qualificacao_socio': {'codigo': '22', 'descricao': 'Sócio'}}\n",
            "offset atual: 100000\n",
            "{'_key': '545123474', '_id': 'Owns/545123474', '_from': 'PJ/501226152', '_to': 'PJ/497457450', '_rev': '_d-TfWQW---', 'tipo_socio': {'codigo': '1', 'descricao': 'Pessoa Jurídica'}, 'qualificacao_socio': {'codigo': '22', 'descricao': 'Sócio'}}\n",
            "Socios2 length 100133\n",
            "offset atual: 0\n",
            "{'_key': '545124074', '_id': 'Owns/545124074', '_from': 'PJ/512956483', '_to': 'PJ/507109306', '_rev': '_d-TfZ6u---', 'tipo_socio': {'codigo': '1', 'descricao': 'Pessoa Jurídica'}, 'qualificacao_socio': {'codigo': '22', 'descricao': 'Sócio'}}\n",
            "offset atual: 100000\n",
            "{'_key': '545222870', '_id': 'Owns/545222870', '_from': 'PJ/505235750', '_to': 'PJ/512953020', '_rev': '_d-Tg_5----', 'tipo_socio': {'codigo': '1', 'descricao': 'Pessoa Jurídica'}, 'qualificacao_socio': {'codigo': '22', 'descricao': 'Sócio'}}\n",
            "Socios3 length 101536\n",
            "offset atual: 0\n",
            "{'_key': '545223008', '_id': 'Owns/545223008', '_from': 'PJ/520596581', '_to': 'PJ/518867318', '_rev': '_d-TgEyq---', 'tipo_socio': {'codigo': '1', 'descricao': 'Pessoa Jurídica'}, 'qualificacao_socio': {'codigo': '22', 'descricao': 'Sócio'}}\n",
            "offset atual: 100000\n",
            "{'_key': '545321937', '_id': 'Owns/545321937', '_from': 'PJ/541475918', '_to': 'PJ/522531035', '_rev': '_d-TiPyC---', 'tipo_socio': {'codigo': '1', 'descricao': 'Pessoa Jurídica'}, 'qualificacao_socio': {'codigo': '22', 'descricao': 'Sócio'}}\n",
            "Socios4 length 100265\n",
            "offset atual: 0\n",
            "{'_key': '545323466', '_id': 'Owns/545323466', '_from': 'PJ/538091743', '_to': 'PJ/538666789', '_rev': '_d-Tia_G---', 'tipo_socio': {'codigo': '1', 'descricao': 'Pessoa Jurídica'}, 'qualificacao_socio': {'codigo': '22', 'descricao': 'Sócio'}}\n",
            "offset atual: 100000\n",
            "{'_key': '545422315', '_id': 'Owns/545422315', '_from': 'PJ/498210240', '_to': 'PJ/535005905', '_rev': '_d-TjZkW---', 'tipo_socio': {'codigo': '1', 'descricao': 'Pessoa Jurídica'}, 'qualificacao_socio': {'codigo': '22', 'descricao': 'Sócio'}}\n",
            "Socios5 length 100954\n",
            "offset atual: 0\n",
            "{'_key': '545422585', '_id': 'Owns/545422585', '_from': 'PJ/526401424', '_to': 'PJ/497967882', '_rev': '_d-TjeW6---', 'tipo_socio': {'codigo': '1', 'descricao': 'Pessoa Jurídica'}, 'qualificacao_socio': {'codigo': '22', 'descricao': 'Sócio'}}\n",
            "offset atual: 100000\n",
            "{'_key': '545521378', '_id': 'Owns/545521378', '_from': 'PJ/516837927', '_to': 'PJ/512972494', '_rev': '_d-TkhGq---', 'tipo_socio': {'codigo': '1', 'descricao': 'Pessoa Jurídica'}, 'qualificacao_socio': {'codigo': '22', 'descricao': 'Sócio'}}\n",
            "Socios6 length 100465\n",
            "offset atual: 0\n",
            "{'_key': '545522333', '_id': 'Owns/545522333', '_from': 'PJ/538194824', '_to': 'PJ/532905161', '_rev': '_d-TklrC---', 'tipo_socio': {'codigo': '1', 'descricao': 'Pessoa Jurídica'}, 'qualificacao_socio': {'codigo': '37', 'descricao': 'Sócio Pessoa Jurídica Domiciliado no Exterior'}}\n",
            "offset atual: 100000\n",
            "{'_key': '545621089', '_id': 'Owns/545621089', '_from': 'PJ/534040965', '_to': 'PJ/507382381', '_rev': '_d-TleMa---', 'tipo_socio': {'codigo': '1', 'descricao': 'Pessoa Jurídica'}, 'qualificacao_socio': {'codigo': '22', 'descricao': 'Sócio'}}\n",
            "Socios7 length 101459\n",
            "offset atual: 0\n",
            "{'_key': '545621562', '_id': 'Owns/545621562', '_from': 'PJ/532196831', '_to': 'PJ/516927947', '_rev': '_d-Tliyi---', 'tipo_socio': {'codigo': '1', 'descricao': 'Pessoa Jurídica'}, 'qualificacao_socio': {'codigo': '20', 'descricao': 'Sociedade Consorciada'}}\n",
            "offset atual: 100000\n",
            "{'_key': '545720308', '_id': 'Owns/545720308', '_from': 'PJ/516563553', '_to': 'PJ/497458643', '_rev': '_d-TmdTK---', 'tipo_socio': {'codigo': '1', 'descricao': 'Pessoa Jurídica'}, 'qualificacao_socio': {'codigo': '22', 'descricao': 'Sócio'}}\n"
          ]
        }
      ]
    },
    {
      "cell_type": "code",
      "metadata": {
        "id": "XkubATNzdSqw",
        "colab": {
          "base_uri": "https://localhost:8080/"
        },
        "outputId": "c6f243b6-cf7c-4538-a8ed-417ee245e26b"
      },
      "source": [
        "# teste criar relações PJ PE \n",
        "\n",
        "db = conn[\"aura_database\"]\n",
        "\n",
        "aql = ''' \n",
        "// Declarar as coleções FOR loop interior\n",
        "WITH PJ, PE \n",
        "\n",
        "FOR socio in @@socios_collection\n",
        "SORT socio._key asc \n",
        "\n",
        "filter socio.tipo_socio.codigo == \"3\"\n",
        "limit @offset, @count\n",
        "\n",
        "let socio_cnpj_to = socio.cnpj\n",
        "let socio_uniqueID_from = socio.uniqueID\n",
        "\n",
        "// Encontrar socio baseado em tipo socio\n",
        "let pj_to = FIRST( FOR pj in PJ\n",
        "                filter socio_cnpj_to == pj.cnpj\n",
        "                return pj._id)\n",
        "\n",
        "let pe_from =FIRST( FOR pe in PE\n",
        "                    filter socio_uniqueID_from == pe.uniqueID\n",
        "                    return pe._id )\n",
        " \n",
        "filter pj_to != null\n",
        "\n",
        "INSERT {_to:pj_to, _from:pe_from,tipo_socio:socio.tipo_socio, qualificacao_socio:socio.qualificacao_socio} INTO Owns OPTIONS { ignoreErrors: true } \n",
        "return NEW \n",
        "'''\n",
        "aql_len = ''' for socio in @@socios_collection\n",
        "filter socio.tipo_socio.codigo == \"3\"\n",
        "collect with count into counting\n",
        "return counting\n",
        "'''\n",
        "\n",
        "#queryResult = db.AQLQuery(aql,rawResults=True)\n",
        "count = 10000\n",
        "#socios 0 - 7\n",
        "for i in range(8):\n",
        "  socio = \"Socios\"+str(i)\n",
        "# identificar limite e inciar offset count \n",
        "  bindVar_len = {\"@socios_collection\":socio}\n",
        "  queryResult_len = db.AQLQuery(aql_len,rawResults=True,bindVars=bindVar_len)\n",
        "  for key in queryResult_len:\n",
        "    max_range = key  \n",
        "    break \n",
        " \n",
        "  print(socio+' length '+ str(max_range))\n",
        "  for offset in range(0,max_range,count):\n",
        "    offset = offset\n",
        "    bindVar = {\"@socios_collection\":socio,\"offset\":offset, \"count\": count }\n",
        "    queryResult = db.AQLQuery(aql,rawResults=True,bindVars=bindVar)\n",
        "    for key in queryResult:\n",
        "      if (offset%1000 == 0):\n",
        "        print(\"offset atual: \"+str(j))\n",
        "        print(key)\n",
        "        break\n",
        "\n",
        "\n",
        "\n",
        "\n",
        "\n",
        " \n"
      ],
      "execution_count": null,
      "outputs": [
        {
          "output_type": "stream",
          "name": "stdout",
          "text": [
            "Socios0 length 2350\n",
            "offset atual: 100000\n",
            "{'_key': '545721753', '_id': 'Owns/545721753', '_from': 'PE/206564883', '_to': 'PJ/524566695', '_rev': '_d-Tmhky---', 'tipo_socio': {'codigo': '3', 'descricao': 'Nome Exterior'}, 'qualificacao_socio': {'codigo': '38', 'descricao': 'Sócio Pessoa Física Residente ou Domiciliado no Exterior'}}\n",
            "Socios1 length 2379\n",
            "offset atual: 100000\n",
            "{'_key': '545724120', '_id': 'Owns/545724120', '_from': 'PE/206561927', '_to': 'PJ/513074867', '_rev': '_d-Tm2TC---', 'tipo_socio': {'codigo': '3', 'descricao': 'Nome Exterior'}, 'qualificacao_socio': {'codigo': '73', 'descricao': 'Presidente Residente ou Domiciliado no Exterior'}}\n",
            "Socios2 length 2401\n",
            "offset atual: 100000\n",
            "{'_key': '545726516', '_id': 'Owns/545726516', '_from': 'PE/206561073', '_to': 'PJ/534840770', '_rev': '_d-TnJvq---', 'tipo_socio': {'codigo': '3', 'descricao': 'Nome Exterior'}, 'qualificacao_socio': {'codigo': '37', 'descricao': 'Sócio Pessoa Jurídica Domiciliado no Exterior'}}\n",
            "Socios3 length 2376\n",
            "offset atual: 100000\n",
            "{'_key': '545728934', '_id': 'Owns/545728934', '_from': 'PE/206566773', '_to': 'PJ/518695023', '_rev': '_d-TncT6---', 'tipo_socio': {'codigo': '3', 'descricao': 'Nome Exterior'}, 'qualificacao_socio': {'codigo': '38', 'descricao': 'Sócio Pessoa Física Residente ou Domiciliado no Exterior'}}\n",
            "Socios4 length 2346\n",
            "offset atual: 100000\n",
            "{'_key': '545731327', '_id': 'Owns/545731327', '_from': 'PE/206568917', '_to': 'PJ/501419007', '_rev': '_d-TnxGK---', 'tipo_socio': {'codigo': '3', 'descricao': 'Nome Exterior'}, 'qualificacao_socio': {'codigo': '74', 'descricao': 'Sócio-Administrador Residente ou Domiciliado no Exterior'}}\n",
            "Socios5 length 2382\n",
            "offset atual: 100000\n",
            "{'_key': '545733696', '_id': 'Owns/545733696', '_from': 'PE/206559434', '_to': 'PJ/540003476', '_rev': '_d-ToGxu---', 'tipo_socio': {'codigo': '3', 'descricao': 'Nome Exterior'}, 'qualificacao_socio': {'codigo': '38', 'descricao': 'Sócio Pessoa Física Residente ou Domiciliado no Exterior'}}\n",
            "Socios6 length 2411\n",
            "offset atual: 100000\n",
            "{'_key': '545736089', '_id': 'Owns/545736089', '_from': 'PE/206565688', '_to': 'PJ/525287749', '_rev': '_d-ToYvK---', 'tipo_socio': {'codigo': '3', 'descricao': 'Nome Exterior'}, 'qualificacao_socio': {'codigo': '37', 'descricao': 'Sócio Pessoa Jurídica Domiciliado no Exterior'}}\n",
            "Socios7 length 2349\n",
            "offset atual: 100000\n",
            "{'_key': '545738516', '_id': 'Owns/545738516', '_from': 'PE/206569439', '_to': 'PJ/532391882', '_rev': '_d-Toqzm---', 'tipo_socio': {'codigo': '3', 'descricao': 'Nome Exterior'}, 'qualificacao_socio': {'codigo': '71', 'descricao': 'Conselheiro de Administração Residente ou Domiciliado no Exterior'}}\n"
          ]
        }
      ]
    },
    {
      "cell_type": "code",
      "metadata": {
        "id": "_etx0FJpdSnK",
        "colab": {
          "base_uri": "https://localhost:8080/"
        },
        "outputId": "e2d8a491-10fe-4152-ee60-4f5bb6f260f6"
      },
      "source": [
        "# teste criar relações PJ PF [FAZER SOLUÇÂO PARA HOMONIMOS ANTES]\n",
        "#AQL com maior tempo de computação pq a maioria dos socios são pessoas fisicas\n",
        "\n",
        "db = conn[\"aura_database\"]\n",
        "\n",
        "aql = ''' \n",
        "// Declarar as coleções FOR loop exteriror\n",
        "WITH PJ ,  PF  \n",
        "\n",
        "FOR socio in @@socios_collection\n",
        "SORT socio._key asc \n",
        "\n",
        "filter socio.tipo_socio.codigo == \"2\"\n",
        "limit @offset, @count\n",
        "\n",
        "// Transforma os dados de Socios para compativel com PJ por comparação de cnpj\n",
        "let socio_cnpj_to =  socio.cnpj \n",
        "let socio_uniqueID_from = socio.uniqueID\n",
        "\n",
        "// Encontrar socio baseado em tipo socio\n",
        "let pj_to = FIRST( FOR pj in PJ\n",
        "                filter socio_cnpj_to == pj.cnpj\n",
        "                return pj._id)\n",
        " \n",
        "\n",
        "let pf_from =FIRST( FOR pf in PF               \n",
        "                filter socio_uniqueID_from == pf.socio_id\n",
        "                return pf._id)\n",
        "\n",
        "filter  pj_to != null    //ignora empresas sem CNPJ na base PJ \n",
        "\n",
        "INSERT {_to:pj_to, _from:pf_from,tipo_socio:socio.tipo_socio, qualificacao_socio:socio.qualificacao_socio}\n",
        " INTO Owns OPTIONS { ignoreErrors: true } \n",
        "return NEW \n",
        "'''\n",
        "\n",
        "aql_len = ''' for socio in @@socios_collection\n",
        "filter socio.tipo_socio.codigo == \"2\"\n",
        "collect with count into counting\n",
        "return counting\n",
        "'''\n",
        "#queryResult = db.AQLQuery(aql,rawResults=True)\n",
        " \n",
        "#socios 0 - 7\n",
        "for i in range(7,8): #Modificado para iniciar em socios 2 original: for i in range(8):\n",
        "\n",
        "  socio = \"Socios\"+str(i)\n",
        "# identificar limite e inciar offset count \n",
        "  bindVar_len = {\"@socios_collection\":socio}\n",
        "  queryResult_len = db.AQLQuery(aql_len,rawResults=True,bindVars=bindVar_len)\n",
        "  for key in queryResult_len:\n",
        "    a = key  \n",
        "    break \n",
        "  max_range = a\n",
        "  print(socio+' length '+ str(max_range))\n",
        "  count = 100000 #Count maior impede de terminar a computação\n",
        "  offset = 0 \n",
        "  bindVar = {\"@socios_collection\":socio,\"offset\":offset, \"count\": count }  \n",
        "  print(bindVar)\n",
        "  confirmarAcao() \n",
        "  for j in range(0,max_range,count): #original:   for j in range(0,max_range,count):\n",
        "    offset = j  \n",
        "    bindVar = {\"@socios_collection\":socio,\"offset\":offset, \"count\": count }  \n",
        "    queryResult = db.AQLQuery(aql,rawResults=True,bindVars=bindVar)\n",
        "    for key in queryResult:\n",
        "      print(bindVar)\n",
        "      print(key)\n",
        "      break\n"
      ],
      "execution_count": null,
      "outputs": [
        {
          "output_type": "stream",
          "name": "stdout",
          "text": [
            "Socios7 length 3324520\n",
            "{'@socios_collection': 'Socios7', 'offset': 1600000, 'count': 100000}\n",
            "Iniciando \n",
            "\n",
            "{'@socios_collection': 'Socios7', 'offset': 0, 'count': 100000}\n",
            "{'_key': '572467825', '_id': 'Owns/572467825', '_from': 'PF/355887173', '_to': 'PJ/497942869', '_rev': '_d-y1qEa---', 'tipo_socio': {'codigo': '2', 'descricao': 'Pessoa Física'}, 'qualificacao_socio': {'codigo': '28', 'descricao': 'Sócio-Gerente'}}\n",
            "{'@socios_collection': 'Socios7', 'offset': 100000, 'count': 100000}\n",
            "{'_key': '572567153', '_id': 'Owns/572567153', '_from': 'PF/258897923', '_to': 'PJ/501472334', '_rev': '_d-y6Gv2---', 'tipo_socio': {'codigo': '2', 'descricao': 'Pessoa Física'}, 'qualificacao_socio': {'codigo': '5', 'descricao': 'Administrador'}}\n",
            "{'@socios_collection': 'Socios7', 'offset': 200000, 'count': 100000}\n",
            "{'_key': '572666223', '_id': 'Owns/572666223', '_from': 'PF/378457900', '_to': 'PJ/534143807', '_rev': '_d-y8AHS---', 'tipo_socio': {'codigo': '2', 'descricao': 'Pessoa Física'}, 'qualificacao_socio': {'codigo': '10', 'descricao': 'Diretor'}}\n",
            "{'@socios_collection': 'Socios7', 'offset': 300000, 'count': 100000}\n",
            "{'_key': '572765991', '_id': 'Owns/572765991', '_from': 'PF/325599649', '_to': 'PJ/511139342', '_rev': '_d-y9hlm---', 'tipo_socio': {'codigo': '2', 'descricao': 'Pessoa Física'}, 'qualificacao_socio': {'codigo': '10', 'descricao': 'Diretor'}}\n",
            "{'@socios_collection': 'Socios7', 'offset': 400000, 'count': 100000}\n",
            "{'_key': '572865706', '_id': 'Owns/572865706', '_from': 'PF/284656543', '_to': 'PJ/528559509', '_rev': '_d-z-ZFa---', 'tipo_socio': {'codigo': '2', 'descricao': 'Pessoa Física'}, 'qualificacao_socio': {'codigo': '10', 'descricao': 'Diretor'}}\n",
            "{'@socios_collection': 'Socios7', 'offset': 500000, 'count': 100000}\n",
            "{'_key': '572965446', '_id': 'Owns/572965446', '_from': 'PF/384277241', '_to': 'PJ/530847134', '_rev': '_d-z_QHu---', 'tipo_socio': {'codigo': '2', 'descricao': 'Pessoa Física'}, 'qualificacao_socio': {'codigo': '10', 'descricao': 'Diretor'}}\n",
            "{'@socios_collection': 'Socios7', 'offset': 600000, 'count': 100000}\n",
            "{'_key': '573065183', '_id': 'Owns/573065183', '_from': 'PF/419931910', '_to': 'PJ/505407067', '_rev': '_d-zA-om---', 'tipo_socio': {'codigo': '2', 'descricao': 'Pessoa Física'}, 'qualificacao_socio': {'codigo': '10', 'descricao': 'Diretor'}}\n",
            "{'@socios_collection': 'Socios7', 'offset': 700000, 'count': 100000}\n",
            "{'_key': '573165002', '_id': 'Owns/573165002', '_from': 'PF/239269252', '_to': 'PJ/514812245', '_rev': '_d-zCp92---', 'tipo_socio': {'codigo': '2', 'descricao': 'Pessoa Física'}, 'qualificacao_socio': {'codigo': '16', 'descricao': 'Presidente'}}\n",
            "{'@socios_collection': 'Socios7', 'offset': 800000, 'count': 100000}\n",
            "{'_key': '573264833', '_id': 'Owns/573264833', '_from': 'PF/360309208', '_to': 'PJ/530503392', '_rev': '_d-zF0ru---', 'tipo_socio': {'codigo': '2', 'descricao': 'Pessoa Física'}, 'qualificacao_socio': {'codigo': '16', 'descricao': 'Presidente'}}\n",
            "{'@socios_collection': 'Socios7', 'offset': 900000, 'count': 100000}\n",
            "{'_key': '573364542', '_id': 'Owns/573364542', '_from': 'PF/383416722', '_to': 'PJ/516353396', '_rev': '_d-zKOYC---', 'tipo_socio': {'codigo': '2', 'descricao': 'Pessoa Física'}, 'qualificacao_socio': {'codigo': '22', 'descricao': 'Sócio'}}\n",
            "{'@socios_collection': 'Socios7', 'offset': 1000000, 'count': 100000}\n",
            "{'_key': '573464206', '_id': 'Owns/573464206', '_from': 'PF/289355864', '_to': 'PJ/505243043', '_rev': '_d-zPlOi---', 'tipo_socio': {'codigo': '2', 'descricao': 'Pessoa Física'}, 'qualificacao_socio': {'codigo': '22', 'descricao': 'Sócio'}}\n",
            "{'@socios_collection': 'Socios7', 'offset': 1100000, 'count': 100000}\n",
            "{'_key': '573563882', '_id': 'Owns/573563882', '_from': 'PF/348852042', '_to': 'PJ/522946945', '_rev': '_d-zU226---', 'tipo_socio': {'codigo': '2', 'descricao': 'Pessoa Física'}, 'qualificacao_socio': {'codigo': '22', 'descricao': 'Sócio'}}\n",
            "{'@socios_collection': 'Socios7', 'offset': 1200000, 'count': 100000}\n",
            "{'_key': '573663482', '_id': 'Owns/573663482', '_from': 'PF/301910425', '_to': 'PJ/501869607', '_rev': '_d-zZnhq---', 'tipo_socio': {'codigo': '2', 'descricao': 'Pessoa Física'}, 'qualificacao_socio': {'codigo': '22', 'descricao': 'Sócio'}}\n",
            "{'@socios_collection': 'Socios7', 'offset': 1300000, 'count': 100000}\n",
            "{'_key': '573763142', '_id': 'Owns/573763142', '_from': 'PF/335100458', '_to': 'PJ/532029685', '_rev': '_d-zeaNm---', 'tipo_socio': {'codigo': '2', 'descricao': 'Pessoa Física'}, 'qualificacao_socio': {'codigo': '22', 'descricao': 'Sócio'}}\n",
            "{'@socios_collection': 'Socios7', 'offset': 1400000, 'count': 100000}\n",
            "{'_key': '573862746', '_id': 'Owns/573862746', '_from': 'PF/377059655', '_to': 'PJ/523872870', '_rev': '_d-zjKkK---', 'tipo_socio': {'codigo': '2', 'descricao': 'Pessoa Física'}, 'qualificacao_socio': {'codigo': '22', 'descricao': 'Sócio'}}\n",
            "{'@socios_collection': 'Socios7', 'offset': 1500000, 'count': 100000}\n",
            "{'_key': '573962382', '_id': 'Owns/573962382', '_from': 'PF/400940649', '_to': 'PJ/517392511', '_rev': '_d-zoBRG---', 'tipo_socio': {'codigo': '2', 'descricao': 'Pessoa Física'}, 'qualificacao_socio': {'codigo': '22', 'descricao': 'Sócio'}}\n",
            "{'@socios_collection': 'Socios7', 'offset': 1600000, 'count': 100000}\n",
            "{'_key': '574061896', '_id': 'Owns/574061896', '_from': 'PF/385260703', '_to': 'PJ/532128808', '_rev': '_d-zszvW---', 'tipo_socio': {'codigo': '2', 'descricao': 'Pessoa Física'}, 'qualificacao_socio': {'codigo': '49', 'descricao': 'Sócio-Administrador'}}\n",
            "{'@socios_collection': 'Socios7', 'offset': 1700000, 'count': 100000}\n",
            "{'_key': '574161205', '_id': 'Owns/574161205', '_from': 'PF/399500224', '_to': 'PJ/530894828', '_rev': '_d-zx2v6---', 'tipo_socio': {'codigo': '2', 'descricao': 'Pessoa Física'}, 'qualificacao_socio': {'codigo': '49', 'descricao': 'Sócio-Administrador'}}\n",
            "{'@socios_collection': 'Socios7', 'offset': 1800000, 'count': 100000}\n",
            "{'_key': '574260471', '_id': 'Owns/574260471', '_from': 'PF/256955812', '_to': 'PJ/516829518', '_rev': '_d-z214u---', 'tipo_socio': {'codigo': '2', 'descricao': 'Pessoa Física'}, 'qualificacao_socio': {'codigo': '49', 'descricao': 'Sócio-Administrador'}}\n",
            "{'@socios_collection': 'Socios7', 'offset': 1900000, 'count': 100000}\n",
            "{'_key': '574359746', '_id': 'Owns/574359746', '_from': 'PF/417301237', '_to': 'PJ/514355429', '_rev': '_d-z78wa---', 'tipo_socio': {'codigo': '2', 'descricao': 'Pessoa Física'}, 'qualificacao_socio': {'codigo': '49', 'descricao': 'Sócio-Administrador'}}\n",
            "{'@socios_collection': 'Socios7', 'offset': 2000000, 'count': 100000}\n",
            "{'_key': '574459031', '_id': 'Owns/574459031', '_from': 'PF/215712958', '_to': 'PJ/504018320', '_rev': '_d-0B-ym---', 'tipo_socio': {'codigo': '2', 'descricao': 'Pessoa Física'}, 'qualificacao_socio': {'codigo': '49', 'descricao': 'Sócio-Administrador'}}\n",
            "{'@socios_collection': 'Socios7', 'offset': 2100000, 'count': 100000}\n",
            "{'_key': '574558271', '_id': 'Owns/574558271', '_from': 'PF/285602591', '_to': 'PJ/516552354', '_rev': '_d-0GdCG---', 'tipo_socio': {'codigo': '2', 'descricao': 'Pessoa Física'}, 'qualificacao_socio': {'codigo': '49', 'descricao': 'Sócio-Administrador'}}\n",
            "{'@socios_collection': 'Socios7', 'offset': 2200000, 'count': 100000}\n",
            "{'_key': '574657552', '_id': 'Owns/574657552', '_from': 'PF/359450297', '_to': 'PJ/505039945', '_rev': '_d-0LYDC---', 'tipo_socio': {'codigo': '2', 'descricao': 'Pessoa Física'}, 'qualificacao_socio': {'codigo': '49', 'descricao': 'Sócio-Administrador'}}\n",
            "{'@socios_collection': 'Socios7', 'offset': 2300000, 'count': 100000}\n",
            "{'_key': '574756853', '_id': 'Owns/574756853', '_from': 'PF/356839192', '_to': 'PJ/536851745', '_rev': '_d-0QncS---', 'tipo_socio': {'codigo': '2', 'descricao': 'Pessoa Física'}, 'qualificacao_socio': {'codigo': '49', 'descricao': 'Sócio-Administrador'}}\n",
            "{'@socios_collection': 'Socios7', 'offset': 2400000, 'count': 100000}\n",
            "{'_key': '574856110', '_id': 'Owns/574856110', '_from': 'PF/373290235', '_to': 'PJ/535690904', '_rev': '_d-0VgsW---', 'tipo_socio': {'codigo': '2', 'descricao': 'Pessoa Física'}, 'qualificacao_socio': {'codigo': '49', 'descricao': 'Sócio-Administrador'}}\n",
            "{'@socios_collection': 'Socios7', 'offset': 2500000, 'count': 100000}\n",
            "{'_key': '574955407', '_id': 'Owns/574955407', '_from': 'PF/290266010', '_to': 'PJ/500110968', '_rev': '_d-0a6eG---', 'tipo_socio': {'codigo': '2', 'descricao': 'Pessoa Física'}, 'qualificacao_socio': {'codigo': '49', 'descricao': 'Sócio-Administrador'}}\n",
            "{'@socios_collection': 'Socios7', 'offset': 2600000, 'count': 100000}\n",
            "{'_key': '575054742', '_id': 'Owns/575054742', '_from': 'PF/426847045', '_to': 'PJ/504541062', '_rev': '_d-0ghXO---', 'tipo_socio': {'codigo': '2', 'descricao': 'Pessoa Física'}, 'qualificacao_socio': {'codigo': '49', 'descricao': 'Sócio-Administrador'}}\n",
            "{'@socios_collection': 'Socios7', 'offset': 2700000, 'count': 100000}\n",
            "{'_key': '575154038', '_id': 'Owns/575154038', '_from': 'PF/294149062', '_to': 'PJ/499951672', '_rev': '_d-0lrIi---', 'tipo_socio': {'codigo': '2', 'descricao': 'Pessoa Física'}, 'qualificacao_socio': {'codigo': '49', 'descricao': 'Sócio-Administrador'}}\n",
            "{'@socios_collection': 'Socios7', 'offset': 2800000, 'count': 100000}\n",
            "{'_key': '575253336', '_id': 'Owns/575253336', '_from': 'PF/411045455', '_to': 'PJ/502968517', '_rev': '_d-0q1-----', 'tipo_socio': {'codigo': '2', 'descricao': 'Pessoa Física'}, 'qualificacao_socio': {'codigo': '49', 'descricao': 'Sócio-Administrador'}}\n",
            "{'@socios_collection': 'Socios7', 'offset': 2900000, 'count': 100000}\n",
            "{'_key': '575352685', '_id': 'Owns/575352685', '_from': 'PF/337098221', '_to': 'PJ/532949950', '_rev': '_d-0vzDS---', 'tipo_socio': {'codigo': '2', 'descricao': 'Pessoa Física'}, 'qualificacao_socio': {'codigo': '49', 'descricao': 'Sócio-Administrador'}}\n",
            "{'@socios_collection': 'Socios7', 'offset': 3000000, 'count': 100000}\n",
            "{'_key': '575451927', '_id': 'Owns/575451927', '_from': 'PF/274535179', '_to': 'PJ/535885964', '_rev': '_d-008_u---', 'tipo_socio': {'codigo': '2', 'descricao': 'Pessoa Física'}, 'qualificacao_socio': {'codigo': '49', 'descricao': 'Sócio-Administrador'}}\n",
            "{'@socios_collection': 'Socios7', 'offset': 3100000, 'count': 100000}\n",
            "{'_key': '575551251', '_id': 'Owns/575551251', '_from': 'PF/324476305', '_to': 'PJ/498263482', '_rev': '_d-05wVy---', 'tipo_socio': {'codigo': '2', 'descricao': 'Pessoa Física'}, 'qualificacao_socio': {'codigo': '59', 'descricao': 'Produtor Rural'}}\n",
            "{'@socios_collection': 'Socios7', 'offset': 3200000, 'count': 100000}\n",
            "{'_key': '575650278', '_id': 'Owns/575650278', '_from': 'PF/419572772', '_to': 'PJ/524625282', '_rev': '_d-1-_zm---', 'tipo_socio': {'codigo': '2', 'descricao': 'Pessoa Física'}, 'qualificacao_socio': {'codigo': '65', 'descricao': 'Titular Pessoa Física Residente ou Domiciliado no Brasil'}}\n",
            "{'@socios_collection': 'Socios7', 'offset': 3300000, 'count': 100000}\n",
            "{'_key': '575748575', '_id': 'Owns/575748575', '_from': 'PF/317445574', '_to': 'PJ/512440251', '_rev': '_d-1B7Ju---', 'tipo_socio': {'codigo': '2', 'descricao': 'Pessoa Física'}, 'qualificacao_socio': {'codigo': '65', 'descricao': 'Titular Pessoa Física Residente ou Domiciliado no Brasil'}}\n"
          ]
        }
      ]
    },
    {
      "cell_type": "markdown",
      "metadata": {
        "id": "FSznaJYJ89fu"
      },
      "source": [
        "#Criar atributos relações em PF - PJ - PE\n",
        "atributo idealizado para:\n",
        "- simplificar filtragem/bloqueio nas buscas por grafo em nós com muitas relações. \n",
        "- Disponibilizar informação quantitativa de conexões sem realizar a busca no grafo"
      ]
    },
    {
      "cell_type": "code",
      "metadata": {
        "id": "Szu4MgC99Cvz"
      },
      "source": [
        "#computar e atualizar relações PJ \n",
        "\n",
        "\n",
        " db = conn[\"aura_database\"]\n",
        "\n",
        "aql_participacoes = ''' \n",
        "FOR pj in PJ \n",
        "limit @offset , @count\n",
        "\n",
        "\n",
        "\n",
        "//Atualizar PJ para ter participacoes no seu doc \n",
        "UPDATE {_key:pf_1._key, homonimo: True, socio_id:pf_h._id } INTO PF OPTIONS { ignoreErrors: true } \n",
        "UPDATE {_key:pf_2._key, homonimo: True, socio_id:pf_h._id } INTO PF OPTIONS { ignoreErrors: true } \n",
        "'''  \n"
      ],
      "execution_count": null,
      "outputs": []
    },
    {
      "cell_type": "code",
      "metadata": {
        "id": "1lnBr7b69DCE"
      },
      "source": [
        "#computar e atualizar relações PF\n",
        "\n"
      ],
      "execution_count": null,
      "outputs": []
    },
    {
      "cell_type": "code",
      "metadata": {
        "id": "ecnUNegW9Htl"
      },
      "source": [
        "#computar e atualizar relações PE\n",
        "\n"
      ],
      "execution_count": null,
      "outputs": []
    },
    {
      "cell_type": "markdown",
      "metadata": {
        "id": "O8IJizD2SwZQ"
      },
      "source": [
        "#Casos de interesse "
      ]
    },
    {
      "cell_type": "markdown",
      "metadata": {
        "id": "mJ3ikOEkvdmL"
      },
      "source": [
        "Limitações por collections. <br>\n",
        "Socios0-7 => Tem dados repetidos. **Consequencia**: Gera relações duplicadas\n",
        "\n",
        "**PF** => socio_id não é unico. **Consequencia**: Não é possível certificar qual pessoa é referenciada na tabela Socios0-7. **Solução**: Criados stubs para representar cada homonimo\n",
        "\n",
        "**PJ** => Não tem alguns cnpjs. **Consequencia**: Não é possível montar as relações da tabela socios onde aparecem esses CNPJs. **Solução**: Pesquisar esses CNPJs no site da fazenda, adicionar a coleção PJ e montar as relações faltantes de socios. **Ideia**: Fazer coleção de dados da tabela socios com esse CNPJs.\n",
        "\n",
        "\n"
      ]
    },
    {
      "cell_type": "code",
      "metadata": {
        "id": "Q8NvW7BBS2FX"
      },
      "source": [
        "#contar pessoas com X  numero de homonimos \n",
        "\n",
        "aql_count_homonimos = '''\n",
        "for pf in PF_homonimos\n",
        "\n",
        "filter LENGTH(pf.info) == 5 //@x \n",
        "collect with count into counter\n",
        "return counter\n",
        "'''\n",
        "aql_homonimos_x_ocorrencias = '''\n",
        "for pf in PF_homonimos\n",
        "\n",
        "filter LENGTH(pf.info) >=4 //@x \n",
        "return {pf:pf, len:LENGTH(pf.info)}\n",
        "'''\n",
        "\n",
        "aql_encontra_stub_socio_id = '''\n",
        "for pf in PF\n",
        "filter pf.socio_id == \"JOSE DOS SANTOS***944565**\"\n",
        "return pf\n",
        "'''\n",
        "aql_encontra_homonimos_do_stub = '''\n",
        "for pf in PF\n",
        "filter pf.socio_id == \"PF_homonimos/542402674\"\n",
        "return pf\n",
        "'''\n",
        "\n",
        "aql_dado_repetido_tabela_socio = '''\n",
        "\n",
        "let pf = document(\"PF/260393058\")\n",
        "let pj = document(\"PJ/523522793\")\n",
        "\n",
        "FOR socio in Socios0\n",
        "filter socio.cnpj == pj.cnpj\n",
        "\n",
        "return {socio:socio, pj:pj, pf:pf}\n",
        "'''\n",
        "\n",
        "aql_encontrar_dado_repetido = ''' \n",
        "FOR socio in Socios0 //@@Socios_collection\n",
        "\n",
        "collect from = socio.uniqueID, to = socio.cnpj with count INTO counter\n",
        "filter counter >1\n",
        "return {counter:counter, from:from, to:to}\n",
        "'''"
      ],
      "execution_count": null,
      "outputs": []
    },
    {
      "cell_type": "markdown",
      "metadata": {
        "id": "hQqX6JBkHkpK"
      },
      "source": [
        "# Testes Querys\n",
        "Tentando usar \n",
        "\t\tOpções: query.global-memory-limit do https://www.arangodb.com/docs/stable/programs-arangod-options.html\n",
        "\n",
        "Para não travar a VM durante a execução"
      ]
    },
    {
      "cell_type": "code",
      "metadata": {
        "colab": {
          "base_uri": "https://localhost:8080/"
        },
        "id": "1pyGbjAlqkoq",
        "outputId": "150272c5-f0ff-4c31-9503-217ef0ddc226"
      },
      "source": [
        "#bindVars AQL teste with FOR loop control \n",
        " ## Para colocar collection no Bind Var precisa referencia com um @ adicionalmente a colocar um @ de bindVar\n",
        "\n",
        "\n",
        "aql = '''  \n",
        "FOR socio in @@socio_var\n",
        "limit 1\n",
        "return socio\n",
        "\n",
        "'''\n",
        "\n",
        "#socios 0 - 7\n",
        "for i in range(8):\n",
        "  socio = \"Socios\"+str(i)\n",
        "  bindVar = {\"@socio_var\":socio}\n",
        "  print(bindVar)\n",
        "  queryResult = db.AQLQuery(aql,rawResults=True,bindVars=bindVar)\n",
        "  for key in queryResult:\n",
        "    print(key)\n",
        "\n"
      ],
      "execution_count": null,
      "outputs": [
        {
          "output_type": "stream",
          "name": "stdout",
          "text": [
            "{'@socio_var': 'Socios0'}\n",
            "{'_key': '193302102', '_id': 'Socios0/193302102', '_rev': '_c3hGIUS---', 'cnpj': '30758932000169', 'cpf_cnpj_socio': '30758916000176', 'uniqueID': 'EMPREENDIMENTOS VIGNE LTDA30758916000176', 'qualificacao_socio': {'codigo': '22', 'descricao': 'Sócio'}, 'tipo_socio': {'codigo': '1', 'descricao': 'Pessoa Jurídica'}}\n",
            "{'@socio_var': 'Socios1'}\n",
            "{'_key': '228181034', '_id': 'Socios1/228181034', '_rev': '_c3xENFq---', 'cnpj': '5535363000145', 'cpf_cnpj_socio': '99999999999999', 'uniqueID': 'MIGUEL ANGEL PORTEIRO POMBO99999999999999', 'qualificacao_socio': {'codigo': '73', 'descricao': 'Presidente Residente ou Domiciliado no Exterior'}, 'tipo_socio': {'codigo': '3', 'descricao': 'Nome Exterior'}}\n",
            "{'@socio_var': 'Socios2'}\n",
            "{'_key': '476466767', '_id': 'Socios2/476466767', '_rev': '_c4d5eJu---', 'cnpj': '6026622000175', 'cpf_cnpj_socio': '16492710000116', 'uniqueID': 'EMAIS URBANISMO INCORPORACOES LTDA16492710000116', 'qualificacao_socio': {'codigo': '22', 'descricao': 'Sócio'}, 'tipo_socio': {'codigo': '1', 'descricao': 'Pessoa Jurídica'}}\n",
            "{'@socio_var': 'Socios3'}\n",
            "{'_key': '479894289', '_id': 'Socios3/479894289', '_rev': '_c4e_waO---', 'cnpj': '9515906000113', 'cpf_cnpj_socio': '99999999999999', 'uniqueID': 'PABLO ALEJANDRO KOCOUREK99999999999999', 'qualificacao_socio': {'codigo': '38', 'descricao': 'Sócio Pessoa Física Residente ou Domiciliado no Exterior'}, 'tipo_socio': {'codigo': '3', 'descricao': 'Nome Exterior'}}\n",
            "{'@socio_var': 'Socios4'}\n",
            "{'_key': '483325232', '_id': 'Socios4/483325232', '_rev': '_c4eEOle---', 'cnpj': '24556200000193', 'cpf_cnpj_socio': '99999999999999', 'uniqueID': 'MARIO ANTONIO AMORIM DE CARVALHO BORGES99999999999999', 'qualificacao_socio': {'codigo': '74', 'descricao': 'Sócio-Administrador Residente ou Domiciliado no Exterior'}, 'tipo_socio': {'codigo': '3', 'descricao': 'Nome Exterior'}}\n",
            "{'@socio_var': 'Socios5'}\n",
            "{'_key': '486751749', '_id': 'Socios5/486751749', '_rev': '_c4eIVve---', 'cnpj': '6889300000150', 'cpf_cnpj_socio': '99999999999999', 'uniqueID': 'RAJENDRA B. VATTIKUTI99999999999999', 'qualificacao_socio': {'codigo': '38', 'descricao': 'Sócio Pessoa Física Residente ou Domiciliado no Exterior'}, 'tipo_socio': {'codigo': '3', 'descricao': 'Nome Exterior'}}\n",
            "{'@socio_var': 'Socios6'}\n",
            "{'_key': '490175553', '_id': 'Socios6/490175553', '_rev': '_c4eMWN----', 'cnpj': '4311455000189', 'cpf_cnpj_socio': '99999999999999', 'uniqueID': 'FONTANE FINANCIERE S A99999999999999', 'qualificacao_socio': {'codigo': '37', 'descricao': 'Sócio Pessoa Jurídica Domiciliado no Exterior'}, 'tipo_socio': {'codigo': '3', 'descricao': 'Nome Exterior'}}\n",
            "{'@socio_var': 'Socios7'}\n",
            "{'_key': '493604708', '_id': 'Socios7/493604708', '_rev': '_c4ejlXW---', 'cnpj': '10301493000153', 'cpf_cnpj_socio': '99999999999999', 'uniqueID': 'THOMAS WALTER ANDREN99999999999999', 'qualificacao_socio': {'codigo': '71', 'descricao': 'Conselheiro de Administração Residente ou Domiciliado no Exterior'}, 'tipo_socio': {'codigo': '3', 'descricao': 'Nome Exterior'}}\n"
          ]
        }
      ]
    },
    {
      "cell_type": "code",
      "metadata": {
        "id": "QfYtNOrWFpAP"
      },
      "source": [
        "# Query test: \n",
        "\n",
        "aql = '''\n",
        " FOR pj in PJ\n",
        " limit 3\n",
        "COLLECT empresa = pj.cnpj INTO duplicada = {\"nome\":pj.razao_social,\"cnpj\": pj.cnpj,key : pj._key,  }// KEEP infos\n",
        " //filter duplicada >= 2\n",
        "//filter LENGTH(duplicada) >=2\n",
        "\n",
        "return {empresa:empresa, info:duplicada[*]} '''\n",
        "\n",
        "queryResult = db.AQLQuery(aql,rawResults=True)\n",
        "for key in queryResult:\n",
        "  print(key)"
      ],
      "execution_count": null,
      "outputs": []
    },
    {
      "cell_type": "code",
      "metadata": {
        "id": "bVBn_vGZF_GO"
      },
      "source": [
        "# Query test: \n",
        "\n",
        "aql = '''\n",
        " FOR pj in PJ\n",
        "limit 5\n",
        "collect cn = pj.cnpj WITH count into contador\n",
        "\n",
        "return {cn:cn, contador:contador} '''\n",
        "\n",
        "queryResult = db.AQLQuery(aql,rawResults=True)\n",
        "for key in queryResult:\n",
        "  print(key)"
      ],
      "execution_count": null,
      "outputs": []
    },
    {
      "cell_type": "code",
      "metadata": {
        "id": "FjCVlr5QYLmR",
        "colab": {
          "base_uri": "https://localhost:8080/",
          "height": 476
        },
        "outputId": "fbb32a70-551b-49a9-80c5-1f38bf8ce643"
      },
      "source": [
        " # com limit 100 demorou 1 hora e pouco para falhar\n",
        "db = conn[\"aura_database\"]\n",
        "\n",
        "aql = ''' \n",
        "for pf in PF\n",
        " \n",
        "filter  pf.socio_id != null\n",
        "COLLECT pessoa = pf.socio_id INTO duplicada = {\"nome\":pf.socio_id,\"cpf\":pf.cpf,key : pf._key,  } \n",
        "  \n",
        " filter LENGTH(duplicada) >=3\n",
        "limit 1\n",
        "return {pessoa:pessoa, info:duplicada[*]} '''\n",
        " \n",
        "queryResult = db.AQLQuery(aql,rawResults=True)\n",
        "for key in queryResult:\n",
        "  print(key)"
      ],
      "execution_count": null,
      "outputs": [
        {
          "output_type": "stream",
          "name": "stdout",
          "text": [
            "===\n",
            "Unable to establish connection, perhaps arango is not running.\n",
            "===\n"
          ]
        },
        {
          "output_type": "error",
          "ename": "KeyboardInterrupt",
          "evalue": "ignored",
          "traceback": [
            "\u001b[0;31m---------------------------------------------------------------------------\u001b[0m",
            "\u001b[0;31mTypeError\u001b[0m                                 Traceback (most recent call last)",
            "\u001b[0;32m/usr/local/lib/python3.7/dist-packages/urllib3/connectionpool.py\u001b[0m in \u001b[0;36m_make_request\u001b[0;34m(self, conn, method, url, timeout, chunked, **httplib_request_kw)\u001b[0m\n\u001b[1;32m    376\u001b[0m             \u001b[0;32mtry\u001b[0m\u001b[0;34m:\u001b[0m  \u001b[0;31m# Python 2.7, use buffering of HTTP responses\u001b[0m\u001b[0;34m\u001b[0m\u001b[0;34m\u001b[0m\u001b[0m\n\u001b[0;32m--> 377\u001b[0;31m                 \u001b[0mhttplib_response\u001b[0m \u001b[0;34m=\u001b[0m \u001b[0mconn\u001b[0m\u001b[0;34m.\u001b[0m\u001b[0mgetresponse\u001b[0m\u001b[0;34m(\u001b[0m\u001b[0mbuffering\u001b[0m\u001b[0;34m=\u001b[0m\u001b[0;32mTrue\u001b[0m\u001b[0;34m)\u001b[0m\u001b[0;34m\u001b[0m\u001b[0;34m\u001b[0m\u001b[0m\n\u001b[0m\u001b[1;32m    378\u001b[0m             \u001b[0;32mexcept\u001b[0m \u001b[0mTypeError\u001b[0m\u001b[0;34m:\u001b[0m  \u001b[0;31m# Python 3\u001b[0m\u001b[0;34m\u001b[0m\u001b[0;34m\u001b[0m\u001b[0m\n",
            "\u001b[0;31mTypeError\u001b[0m: getresponse() got an unexpected keyword argument 'buffering'",
            "\nDuring handling of the above exception, another exception occurred:\n",
            "\u001b[0;31mKeyboardInterrupt\u001b[0m                         Traceback (most recent call last)",
            "\u001b[0;32m<ipython-input-5-42ef1ec7cf68>\u001b[0m in \u001b[0;36m<module>\u001b[0;34m()\u001b[0m\n\u001b[1;32m     12\u001b[0m return {pessoa:pessoa, info:duplicada[*]} '''\n\u001b[1;32m     13\u001b[0m \u001b[0;34m\u001b[0m\u001b[0m\n\u001b[0;32m---> 14\u001b[0;31m \u001b[0mqueryResult\u001b[0m \u001b[0;34m=\u001b[0m \u001b[0mdb\u001b[0m\u001b[0;34m.\u001b[0m\u001b[0mAQLQuery\u001b[0m\u001b[0;34m(\u001b[0m\u001b[0maql\u001b[0m\u001b[0;34m,\u001b[0m\u001b[0mrawResults\u001b[0m\u001b[0;34m=\u001b[0m\u001b[0;32mTrue\u001b[0m\u001b[0;34m)\u001b[0m\u001b[0;34m\u001b[0m\u001b[0;34m\u001b[0m\u001b[0m\n\u001b[0m\u001b[1;32m     15\u001b[0m \u001b[0;32mfor\u001b[0m \u001b[0mkey\u001b[0m \u001b[0;32min\u001b[0m \u001b[0mqueryResult\u001b[0m\u001b[0;34m:\u001b[0m\u001b[0;34m\u001b[0m\u001b[0;34m\u001b[0m\u001b[0m\n\u001b[1;32m     16\u001b[0m  \u001b[0mprint\u001b[0m\u001b[0;34m(\u001b[0m\u001b[0mkey\u001b[0m\u001b[0;34m)\u001b[0m\u001b[0;34m\u001b[0m\u001b[0;34m\u001b[0m\u001b[0m\n",
            "\u001b[0;32m/usr/local/lib/python3.7/dist-packages/pyArango/database.py\u001b[0m in \u001b[0;36mAQLQuery\u001b[0;34m(self, query, batchSize, rawResults, bindVars, options, count, fullCount, json_encoder, **moreArgs)\u001b[0m\n\u001b[1;32m    235\u001b[0m \u001b[0;34m\u001b[0m\u001b[0m\n\u001b[1;32m    236\u001b[0m         return AQLQuery(self, query, rawResults = rawResults, batchSize = batchSize, bindVars  = bindVars, options = options, count = count, fullCount = fullCount,\n\u001b[0;32m--> 237\u001b[0;31m                         json_encoder = json_encoder, **moreArgs)\n\u001b[0m\u001b[1;32m    238\u001b[0m \u001b[0;34m\u001b[0m\u001b[0m\n\u001b[1;32m    239\u001b[0m     \u001b[0;32mdef\u001b[0m \u001b[0m__get_logger\u001b[0m\u001b[0;34m(\u001b[0m\u001b[0mself\u001b[0m\u001b[0;34m,\u001b[0m \u001b[0mlogger\u001b[0m\u001b[0;34m,\u001b[0m \u001b[0mlog_level\u001b[0m\u001b[0;34m)\u001b[0m\u001b[0;34m:\u001b[0m\u001b[0;34m\u001b[0m\u001b[0;34m\u001b[0m\u001b[0m\n",
            "\u001b[0;32m/usr/local/lib/python3.7/dist-packages/pyArango/query.py\u001b[0m in \u001b[0;36m__init__\u001b[0;34m(self, database, query, batchSize, bindVars, options, count, fullCount, rawResults, json_encoder, **moreArgs)\u001b[0m\n\u001b[1;32m    146\u001b[0m         \u001b[0mself\u001b[0m\u001b[0;34m.\u001b[0m\u001b[0mconnection\u001b[0m \u001b[0;34m=\u001b[0m \u001b[0mself\u001b[0m\u001b[0;34m.\u001b[0m\u001b[0mdatabase\u001b[0m\u001b[0;34m.\u001b[0m\u001b[0mconnection\u001b[0m\u001b[0;34m\u001b[0m\u001b[0;34m\u001b[0m\u001b[0m\n\u001b[1;32m    147\u001b[0m         \u001b[0mself\u001b[0m\u001b[0;34m.\u001b[0m\u001b[0mconnection\u001b[0m\u001b[0;34m.\u001b[0m\u001b[0mreportStart\u001b[0m\u001b[0;34m(\u001b[0m\u001b[0mquery\u001b[0m\u001b[0;34m)\u001b[0m\u001b[0;34m\u001b[0m\u001b[0;34m\u001b[0m\u001b[0m\n\u001b[0;32m--> 148\u001b[0;31m         \u001b[0mrequest\u001b[0m \u001b[0;34m=\u001b[0m \u001b[0mself\u001b[0m\u001b[0;34m.\u001b[0m\u001b[0mconnection\u001b[0m\u001b[0;34m.\u001b[0m\u001b[0msession\u001b[0m\u001b[0;34m.\u001b[0m\u001b[0mpost\u001b[0m\u001b[0;34m(\u001b[0m\u001b[0mdatabase\u001b[0m\u001b[0;34m.\u001b[0m\u001b[0mgetCursorsURL\u001b[0m\u001b[0;34m(\u001b[0m\u001b[0;34m)\u001b[0m\u001b[0;34m,\u001b[0m \u001b[0mdata\u001b[0m \u001b[0;34m=\u001b[0m \u001b[0mjson\u001b[0m\u001b[0;34m.\u001b[0m\u001b[0mdumps\u001b[0m\u001b[0;34m(\u001b[0m\u001b[0mpayload\u001b[0m\u001b[0;34m,\u001b[0m \u001b[0mcls\u001b[0m\u001b[0;34m=\u001b[0m\u001b[0mjson_encoder\u001b[0m\u001b[0;34m,\u001b[0m \u001b[0mdefault\u001b[0m\u001b[0;34m=\u001b[0m\u001b[0mstr\u001b[0m\u001b[0;34m)\u001b[0m\u001b[0;34m)\u001b[0m\u001b[0;34m\u001b[0m\u001b[0;34m\u001b[0m\u001b[0m\n\u001b[0m\u001b[1;32m    149\u001b[0m         \u001b[0mself\u001b[0m\u001b[0;34m.\u001b[0m\u001b[0mconnection\u001b[0m\u001b[0;34m.\u001b[0m\u001b[0mreportItem\u001b[0m\u001b[0;34m(\u001b[0m\u001b[0;34m)\u001b[0m\u001b[0;34m\u001b[0m\u001b[0;34m\u001b[0m\u001b[0m\n\u001b[1;32m    150\u001b[0m \u001b[0;34m\u001b[0m\u001b[0m\n",
            "\u001b[0;32m/usr/local/lib/python3.7/dist-packages/pyArango/connection.py\u001b[0m in \u001b[0;36m__call__\u001b[0;34m(self, *args, **kwargs)\u001b[0m\n\u001b[1;32m     54\u001b[0m                 \u001b[0mretry\u001b[0m \u001b[0;34m=\u001b[0m \u001b[0;36m0\u001b[0m\u001b[0;34m\u001b[0m\u001b[0;34m\u001b[0m\u001b[0m\n\u001b[1;32m     55\u001b[0m                 \u001b[0;32mwhile\u001b[0m \u001b[0mstatus_code\u001b[0m \u001b[0;34m==\u001b[0m \u001b[0;36m1200\u001b[0m \u001b[0;32mand\u001b[0m \u001b[0mretry\u001b[0m \u001b[0;34m<\u001b[0m \u001b[0mself\u001b[0m\u001b[0;34m.\u001b[0m\u001b[0mmax_conflict_retries\u001b[0m \u001b[0;34m:\u001b[0m\u001b[0;34m\u001b[0m\u001b[0;34m\u001b[0m\u001b[0m\n\u001b[0;32m---> 56\u001b[0;31m                     \u001b[0mret\u001b[0m \u001b[0;34m=\u001b[0m \u001b[0mself\u001b[0m\u001b[0;34m.\u001b[0m\u001b[0mfct\u001b[0m\u001b[0;34m(\u001b[0m\u001b[0;34m*\u001b[0m\u001b[0margs\u001b[0m\u001b[0;34m,\u001b[0m \u001b[0;34m**\u001b[0m\u001b[0mkwargs\u001b[0m\u001b[0;34m)\u001b[0m\u001b[0;34m\u001b[0m\u001b[0;34m\u001b[0m\u001b[0m\n\u001b[0m\u001b[1;32m     57\u001b[0m                     \u001b[0mstatus_code\u001b[0m \u001b[0;34m=\u001b[0m \u001b[0mret\u001b[0m\u001b[0;34m.\u001b[0m\u001b[0mstatus_code\u001b[0m\u001b[0;34m\u001b[0m\u001b[0;34m\u001b[0m\u001b[0m\n\u001b[1;32m     58\u001b[0m                     \u001b[0mretry\u001b[0m \u001b[0;34m+=\u001b[0m \u001b[0;36m1\u001b[0m\u001b[0;34m\u001b[0m\u001b[0;34m\u001b[0m\u001b[0m\n",
            "\u001b[0;32m/usr/local/lib/python3.7/dist-packages/requests/sessions.py\u001b[0m in \u001b[0;36mpost\u001b[0;34m(self, url, data, json, **kwargs)\u001b[0m\n\u001b[1;32m    576\u001b[0m         \"\"\"\n\u001b[1;32m    577\u001b[0m \u001b[0;34m\u001b[0m\u001b[0m\n\u001b[0;32m--> 578\u001b[0;31m         \u001b[0;32mreturn\u001b[0m \u001b[0mself\u001b[0m\u001b[0;34m.\u001b[0m\u001b[0mrequest\u001b[0m\u001b[0;34m(\u001b[0m\u001b[0;34m'POST'\u001b[0m\u001b[0;34m,\u001b[0m \u001b[0murl\u001b[0m\u001b[0;34m,\u001b[0m \u001b[0mdata\u001b[0m\u001b[0;34m=\u001b[0m\u001b[0mdata\u001b[0m\u001b[0;34m,\u001b[0m \u001b[0mjson\u001b[0m\u001b[0;34m=\u001b[0m\u001b[0mjson\u001b[0m\u001b[0;34m,\u001b[0m \u001b[0;34m**\u001b[0m\u001b[0mkwargs\u001b[0m\u001b[0;34m)\u001b[0m\u001b[0;34m\u001b[0m\u001b[0;34m\u001b[0m\u001b[0m\n\u001b[0m\u001b[1;32m    579\u001b[0m \u001b[0;34m\u001b[0m\u001b[0m\n\u001b[1;32m    580\u001b[0m     \u001b[0;32mdef\u001b[0m \u001b[0mput\u001b[0m\u001b[0;34m(\u001b[0m\u001b[0mself\u001b[0m\u001b[0;34m,\u001b[0m \u001b[0murl\u001b[0m\u001b[0;34m,\u001b[0m \u001b[0mdata\u001b[0m\u001b[0;34m=\u001b[0m\u001b[0;32mNone\u001b[0m\u001b[0;34m,\u001b[0m \u001b[0;34m**\u001b[0m\u001b[0mkwargs\u001b[0m\u001b[0;34m)\u001b[0m\u001b[0;34m:\u001b[0m\u001b[0;34m\u001b[0m\u001b[0;34m\u001b[0m\u001b[0m\n",
            "\u001b[0;32m/usr/local/lib/python3.7/dist-packages/requests/sessions.py\u001b[0m in \u001b[0;36mrequest\u001b[0;34m(self, method, url, params, data, headers, cookies, files, auth, timeout, allow_redirects, proxies, hooks, stream, verify, cert, json)\u001b[0m\n\u001b[1;32m    528\u001b[0m         }\n\u001b[1;32m    529\u001b[0m         \u001b[0msend_kwargs\u001b[0m\u001b[0;34m.\u001b[0m\u001b[0mupdate\u001b[0m\u001b[0;34m(\u001b[0m\u001b[0msettings\u001b[0m\u001b[0;34m)\u001b[0m\u001b[0;34m\u001b[0m\u001b[0;34m\u001b[0m\u001b[0m\n\u001b[0;32m--> 530\u001b[0;31m         \u001b[0mresp\u001b[0m \u001b[0;34m=\u001b[0m \u001b[0mself\u001b[0m\u001b[0;34m.\u001b[0m\u001b[0msend\u001b[0m\u001b[0;34m(\u001b[0m\u001b[0mprep\u001b[0m\u001b[0;34m,\u001b[0m \u001b[0;34m**\u001b[0m\u001b[0msend_kwargs\u001b[0m\u001b[0;34m)\u001b[0m\u001b[0;34m\u001b[0m\u001b[0;34m\u001b[0m\u001b[0m\n\u001b[0m\u001b[1;32m    531\u001b[0m \u001b[0;34m\u001b[0m\u001b[0m\n\u001b[1;32m    532\u001b[0m         \u001b[0;32mreturn\u001b[0m \u001b[0mresp\u001b[0m\u001b[0;34m\u001b[0m\u001b[0;34m\u001b[0m\u001b[0m\n",
            "\u001b[0;32m/usr/local/lib/python3.7/dist-packages/requests/sessions.py\u001b[0m in \u001b[0;36msend\u001b[0;34m(self, request, **kwargs)\u001b[0m\n\u001b[1;32m    641\u001b[0m \u001b[0;34m\u001b[0m\u001b[0m\n\u001b[1;32m    642\u001b[0m         \u001b[0;31m# Send the request\u001b[0m\u001b[0;34m\u001b[0m\u001b[0;34m\u001b[0m\u001b[0;34m\u001b[0m\u001b[0m\n\u001b[0;32m--> 643\u001b[0;31m         \u001b[0mr\u001b[0m \u001b[0;34m=\u001b[0m \u001b[0madapter\u001b[0m\u001b[0;34m.\u001b[0m\u001b[0msend\u001b[0m\u001b[0;34m(\u001b[0m\u001b[0mrequest\u001b[0m\u001b[0;34m,\u001b[0m \u001b[0;34m**\u001b[0m\u001b[0mkwargs\u001b[0m\u001b[0;34m)\u001b[0m\u001b[0;34m\u001b[0m\u001b[0;34m\u001b[0m\u001b[0m\n\u001b[0m\u001b[1;32m    644\u001b[0m \u001b[0;34m\u001b[0m\u001b[0m\n\u001b[1;32m    645\u001b[0m         \u001b[0;31m# Total elapsed time of the request (approximately)\u001b[0m\u001b[0;34m\u001b[0m\u001b[0;34m\u001b[0m\u001b[0;34m\u001b[0m\u001b[0m\n",
            "\u001b[0;32m/usr/local/lib/python3.7/dist-packages/requests/adapters.py\u001b[0m in \u001b[0;36msend\u001b[0;34m(self, request, stream, timeout, verify, cert, proxies)\u001b[0m\n\u001b[1;32m    447\u001b[0m                     \u001b[0mdecode_content\u001b[0m\u001b[0;34m=\u001b[0m\u001b[0;32mFalse\u001b[0m\u001b[0;34m,\u001b[0m\u001b[0;34m\u001b[0m\u001b[0;34m\u001b[0m\u001b[0m\n\u001b[1;32m    448\u001b[0m                     \u001b[0mretries\u001b[0m\u001b[0;34m=\u001b[0m\u001b[0mself\u001b[0m\u001b[0;34m.\u001b[0m\u001b[0mmax_retries\u001b[0m\u001b[0;34m,\u001b[0m\u001b[0;34m\u001b[0m\u001b[0;34m\u001b[0m\u001b[0m\n\u001b[0;32m--> 449\u001b[0;31m                     \u001b[0mtimeout\u001b[0m\u001b[0;34m=\u001b[0m\u001b[0mtimeout\u001b[0m\u001b[0;34m\u001b[0m\u001b[0;34m\u001b[0m\u001b[0m\n\u001b[0m\u001b[1;32m    450\u001b[0m                 )\n\u001b[1;32m    451\u001b[0m \u001b[0;34m\u001b[0m\u001b[0m\n",
            "\u001b[0;32m/usr/local/lib/python3.7/dist-packages/urllib3/connectionpool.py\u001b[0m in \u001b[0;36murlopen\u001b[0;34m(self, method, url, body, headers, retries, redirect, assert_same_host, timeout, pool_timeout, release_conn, chunked, body_pos, **response_kw)\u001b[0m\n\u001b[1;32m    598\u001b[0m                                                   \u001b[0mtimeout\u001b[0m\u001b[0;34m=\u001b[0m\u001b[0mtimeout_obj\u001b[0m\u001b[0;34m,\u001b[0m\u001b[0;34m\u001b[0m\u001b[0;34m\u001b[0m\u001b[0m\n\u001b[1;32m    599\u001b[0m                                                   \u001b[0mbody\u001b[0m\u001b[0;34m=\u001b[0m\u001b[0mbody\u001b[0m\u001b[0;34m,\u001b[0m \u001b[0mheaders\u001b[0m\u001b[0;34m=\u001b[0m\u001b[0mheaders\u001b[0m\u001b[0;34m,\u001b[0m\u001b[0;34m\u001b[0m\u001b[0;34m\u001b[0m\u001b[0m\n\u001b[0;32m--> 600\u001b[0;31m                                                   chunked=chunked)\n\u001b[0m\u001b[1;32m    601\u001b[0m \u001b[0;34m\u001b[0m\u001b[0m\n\u001b[1;32m    602\u001b[0m             \u001b[0;31m# If we're going to release the connection in ``finally:``, then\u001b[0m\u001b[0;34m\u001b[0m\u001b[0;34m\u001b[0m\u001b[0;34m\u001b[0m\u001b[0m\n",
            "\u001b[0;32m/usr/local/lib/python3.7/dist-packages/urllib3/connectionpool.py\u001b[0m in \u001b[0;36m_make_request\u001b[0;34m(self, conn, method, url, timeout, chunked, **httplib_request_kw)\u001b[0m\n\u001b[1;32m    378\u001b[0m             \u001b[0;32mexcept\u001b[0m \u001b[0mTypeError\u001b[0m\u001b[0;34m:\u001b[0m  \u001b[0;31m# Python 3\u001b[0m\u001b[0;34m\u001b[0m\u001b[0;34m\u001b[0m\u001b[0m\n\u001b[1;32m    379\u001b[0m                 \u001b[0;32mtry\u001b[0m\u001b[0;34m:\u001b[0m\u001b[0;34m\u001b[0m\u001b[0;34m\u001b[0m\u001b[0m\n\u001b[0;32m--> 380\u001b[0;31m                     \u001b[0mhttplib_response\u001b[0m \u001b[0;34m=\u001b[0m \u001b[0mconn\u001b[0m\u001b[0;34m.\u001b[0m\u001b[0mgetresponse\u001b[0m\u001b[0;34m(\u001b[0m\u001b[0;34m)\u001b[0m\u001b[0;34m\u001b[0m\u001b[0;34m\u001b[0m\u001b[0m\n\u001b[0m\u001b[1;32m    381\u001b[0m                 \u001b[0;32mexcept\u001b[0m \u001b[0mException\u001b[0m \u001b[0;32mas\u001b[0m \u001b[0me\u001b[0m\u001b[0;34m:\u001b[0m\u001b[0;34m\u001b[0m\u001b[0;34m\u001b[0m\u001b[0m\n\u001b[1;32m    382\u001b[0m                     \u001b[0;31m# Remove the TypeError from the exception chain in Python 3;\u001b[0m\u001b[0;34m\u001b[0m\u001b[0;34m\u001b[0m\u001b[0;34m\u001b[0m\u001b[0m\n",
            "\u001b[0;32m/usr/lib/python3.7/http/client.py\u001b[0m in \u001b[0;36mgetresponse\u001b[0;34m(self)\u001b[0m\n\u001b[1;32m   1371\u001b[0m         \u001b[0;32mtry\u001b[0m\u001b[0;34m:\u001b[0m\u001b[0;34m\u001b[0m\u001b[0;34m\u001b[0m\u001b[0m\n\u001b[1;32m   1372\u001b[0m             \u001b[0;32mtry\u001b[0m\u001b[0;34m:\u001b[0m\u001b[0;34m\u001b[0m\u001b[0;34m\u001b[0m\u001b[0m\n\u001b[0;32m-> 1373\u001b[0;31m                 \u001b[0mresponse\u001b[0m\u001b[0;34m.\u001b[0m\u001b[0mbegin\u001b[0m\u001b[0;34m(\u001b[0m\u001b[0;34m)\u001b[0m\u001b[0;34m\u001b[0m\u001b[0;34m\u001b[0m\u001b[0m\n\u001b[0m\u001b[1;32m   1374\u001b[0m             \u001b[0;32mexcept\u001b[0m \u001b[0mConnectionError\u001b[0m\u001b[0;34m:\u001b[0m\u001b[0;34m\u001b[0m\u001b[0;34m\u001b[0m\u001b[0m\n\u001b[1;32m   1375\u001b[0m                 \u001b[0mself\u001b[0m\u001b[0;34m.\u001b[0m\u001b[0mclose\u001b[0m\u001b[0;34m(\u001b[0m\u001b[0;34m)\u001b[0m\u001b[0;34m\u001b[0m\u001b[0;34m\u001b[0m\u001b[0m\n",
            "\u001b[0;32m/usr/lib/python3.7/http/client.py\u001b[0m in \u001b[0;36mbegin\u001b[0;34m(self)\u001b[0m\n\u001b[1;32m    317\u001b[0m         \u001b[0;31m# read until we get a non-100 response\u001b[0m\u001b[0;34m\u001b[0m\u001b[0;34m\u001b[0m\u001b[0;34m\u001b[0m\u001b[0m\n\u001b[1;32m    318\u001b[0m         \u001b[0;32mwhile\u001b[0m \u001b[0;32mTrue\u001b[0m\u001b[0;34m:\u001b[0m\u001b[0;34m\u001b[0m\u001b[0;34m\u001b[0m\u001b[0m\n\u001b[0;32m--> 319\u001b[0;31m             \u001b[0mversion\u001b[0m\u001b[0;34m,\u001b[0m \u001b[0mstatus\u001b[0m\u001b[0;34m,\u001b[0m \u001b[0mreason\u001b[0m \u001b[0;34m=\u001b[0m \u001b[0mself\u001b[0m\u001b[0;34m.\u001b[0m\u001b[0m_read_status\u001b[0m\u001b[0;34m(\u001b[0m\u001b[0;34m)\u001b[0m\u001b[0;34m\u001b[0m\u001b[0;34m\u001b[0m\u001b[0m\n\u001b[0m\u001b[1;32m    320\u001b[0m             \u001b[0;32mif\u001b[0m \u001b[0mstatus\u001b[0m \u001b[0;34m!=\u001b[0m \u001b[0mCONTINUE\u001b[0m\u001b[0;34m:\u001b[0m\u001b[0;34m\u001b[0m\u001b[0;34m\u001b[0m\u001b[0m\n\u001b[1;32m    321\u001b[0m                 \u001b[0;32mbreak\u001b[0m\u001b[0;34m\u001b[0m\u001b[0;34m\u001b[0m\u001b[0m\n",
            "\u001b[0;32m/usr/lib/python3.7/http/client.py\u001b[0m in \u001b[0;36m_read_status\u001b[0;34m(self)\u001b[0m\n\u001b[1;32m    278\u001b[0m \u001b[0;34m\u001b[0m\u001b[0m\n\u001b[1;32m    279\u001b[0m     \u001b[0;32mdef\u001b[0m \u001b[0m_read_status\u001b[0m\u001b[0;34m(\u001b[0m\u001b[0mself\u001b[0m\u001b[0;34m)\u001b[0m\u001b[0;34m:\u001b[0m\u001b[0;34m\u001b[0m\u001b[0;34m\u001b[0m\u001b[0m\n\u001b[0;32m--> 280\u001b[0;31m         \u001b[0mline\u001b[0m \u001b[0;34m=\u001b[0m \u001b[0mstr\u001b[0m\u001b[0;34m(\u001b[0m\u001b[0mself\u001b[0m\u001b[0;34m.\u001b[0m\u001b[0mfp\u001b[0m\u001b[0;34m.\u001b[0m\u001b[0mreadline\u001b[0m\u001b[0;34m(\u001b[0m\u001b[0m_MAXLINE\u001b[0m \u001b[0;34m+\u001b[0m \u001b[0;36m1\u001b[0m\u001b[0;34m)\u001b[0m\u001b[0;34m,\u001b[0m \u001b[0;34m\"iso-8859-1\"\u001b[0m\u001b[0;34m)\u001b[0m\u001b[0;34m\u001b[0m\u001b[0;34m\u001b[0m\u001b[0m\n\u001b[0m\u001b[1;32m    281\u001b[0m         \u001b[0;32mif\u001b[0m \u001b[0mlen\u001b[0m\u001b[0;34m(\u001b[0m\u001b[0mline\u001b[0m\u001b[0;34m)\u001b[0m \u001b[0;34m>\u001b[0m \u001b[0m_MAXLINE\u001b[0m\u001b[0;34m:\u001b[0m\u001b[0;34m\u001b[0m\u001b[0;34m\u001b[0m\u001b[0m\n\u001b[1;32m    282\u001b[0m             \u001b[0;32mraise\u001b[0m \u001b[0mLineTooLong\u001b[0m\u001b[0;34m(\u001b[0m\u001b[0;34m\"status line\"\u001b[0m\u001b[0;34m)\u001b[0m\u001b[0;34m\u001b[0m\u001b[0;34m\u001b[0m\u001b[0m\n",
            "\u001b[0;32m/usr/lib/python3.7/socket.py\u001b[0m in \u001b[0;36mreadinto\u001b[0;34m(self, b)\u001b[0m\n\u001b[1;32m    587\u001b[0m         \u001b[0;32mwhile\u001b[0m \u001b[0;32mTrue\u001b[0m\u001b[0;34m:\u001b[0m\u001b[0;34m\u001b[0m\u001b[0;34m\u001b[0m\u001b[0m\n\u001b[1;32m    588\u001b[0m             \u001b[0;32mtry\u001b[0m\u001b[0;34m:\u001b[0m\u001b[0;34m\u001b[0m\u001b[0;34m\u001b[0m\u001b[0m\n\u001b[0;32m--> 589\u001b[0;31m                 \u001b[0;32mreturn\u001b[0m \u001b[0mself\u001b[0m\u001b[0;34m.\u001b[0m\u001b[0m_sock\u001b[0m\u001b[0;34m.\u001b[0m\u001b[0mrecv_into\u001b[0m\u001b[0;34m(\u001b[0m\u001b[0mb\u001b[0m\u001b[0;34m)\u001b[0m\u001b[0;34m\u001b[0m\u001b[0;34m\u001b[0m\u001b[0m\n\u001b[0m\u001b[1;32m    590\u001b[0m             \u001b[0;32mexcept\u001b[0m \u001b[0mtimeout\u001b[0m\u001b[0;34m:\u001b[0m\u001b[0;34m\u001b[0m\u001b[0;34m\u001b[0m\u001b[0m\n\u001b[1;32m    591\u001b[0m                 \u001b[0mself\u001b[0m\u001b[0;34m.\u001b[0m\u001b[0m_timeout_occurred\u001b[0m \u001b[0;34m=\u001b[0m \u001b[0;32mTrue\u001b[0m\u001b[0;34m\u001b[0m\u001b[0;34m\u001b[0m\u001b[0m\n",
            "\u001b[0;31mKeyboardInterrupt\u001b[0m: "
          ]
        }
      ]
    },
    {
      "cell_type": "code",
      "metadata": {
        "id": "8qQRvuZsOcRL"
      },
      "source": [
        "#resultados homonimos limit 20 \n",
        "'''\n",
        "{'pessoa': 'ADAILTON CABREIRA***193908**', 'info':\n",
        " [{'nome': 'ADAILTON CABREIRA***193908**', 'cpf': 19419390829, 'key': '254520542'}, \n",
        "  {'nome': 'ADAILTON CABREIRA***193908**', 'cpf': 94119390829, 'key': '393624624'}]}\n",
        "\n",
        "\n",
        "{'pessoa': 'ADALBERTO TORRES DOS SANTOS***100404**',\n",
        " 'info': [{'nome': 'ADALBERTO TORRES DOS SANTOS***100404**', 'cpf': 16610040400, 'key': '294533701'},\n",
        "          {'nome': 'ADALBERTO TORRES DOS SANTOS***100404**', 'cpf': 11610040414, 'key': '384029376'}]}\n",
        "\n",
        "{'pessoa': 'ADAO DOS SANTOS***461009**', 'info':\n",
        " [{'nome': 'ADAO DOS SANTOS***461009**'FOR, 'cpf': 42346100978, 'key': '243315099'},\n",
        "  {'nome': 'ADAO DOS SANTOS***461009**', 'cpf': 86446100906, 'key': '306702880'}]}\n",
        "  \n",
        "{'pessoa': 'ADEILSON ROGERIO DA SILVA***972724**', 'info':\n",
        " [{'nome': 'ADEILSON ROGERIO DA SILVA***972724**', 'cpf': 28297272400, 'key': '315838354'},\n",
        "  {'nome': 'ADEILSON ROGERIO DA SILVA***972724**', 'cpf': 38297272400, 'key': '411561859'}]}\n",
        "\n",
        "{'pessoa': 'ADEMIR DE SOUZA***070019**', 'info': [{'nome': 'ADEMIR DE SOUZA***070019**', 'cpf': 2307001956, 'key': '269202016'}, {'nome': 'ADEMIR DE SOUZA***070019**', 'cpf': 85807001915, 'key': '318934804'}]}\n",
        "{'pessoa': 'ADILSON DE OLIVEIRA***359628**', 'info': [{'nome': 'ADILSON DE OLIVEIRA***359628**', 'cpf': 11035962845, 'key': '318602080'}, {'nome': 'ADILSON DE OLIVEIRA***359628**', 'cpf': 8535962808, 'key': '381377844'}]}\n",
        "{'pessoa': 'ADILSON DE SOUZA***243538**', 'info': [{'nome': 'ADILSON DE SOUZA***243538**', 'cpf': 27424353870, 'key': '247166209'}, {'nome': 'ADILSON DE SOUZA***243538**', 'cpf': 8024353865, 'key': '386580684'}]}\n",
        "{'pessoa': 'ADILSON DOS SANTOS***241398**', 'info': [{'nome': 'ADILSON DOS SANTOS***241398**', 'cpf': 4124139810, 'key': '294067762'}, {'nome': 'ADILSON DOS SANTOS***241398**', 'cpf': 10924139870, 'key': '321788245'}]}\n",
        "{'pessoa': 'ADILSON FERREIRA DA SILVA***312066**', 'info': [{'nome': 'ADILSON FERREIRA DA SILVA***312066**', 'cpf': 7431206631, 'key': '247253868'}, {'nome': 'ADILSON FERREIRA DA SILVA***312066**', 'cpf': 98131206653, 'key': '407197836'}]}\n",
        "{'pessoa': 'ADILSON GONCALVES***967929**', 'info': [{'nome': 'ADILSON GONCALVES***967929**', 'cpf': 5396792914, 'key': '245182166'}, {'nome': 'ADILSON GONCALVES***967929**', 'cpf': 5896792956, 'key': '326644012'}]}\n",
        "{'pessoa': 'ADILSON JOSE DOS SANTOS***032378**', 'info': [{'nome': 'ADILSON JOSE DOS SANTOS***032378**', 'cpf': 32803237890, 'key': '246558240'}, {'nome': 'ADILSON JOSE DOS SANTOS***032378**', 'cpf': 15303237893, 'key': '373003000'}]}\n",
        "{'pessoa': 'ADILSON PEREIRA DA SILVA***299806**', 'info': [{'nome': 'ADILSON PEREIRA DA SILVA***299806**', 'cpf': 17729980606, 'key': '212722099'}, {'nome': 'ADILSON PEREIRA DA SILVA***299806**', 'cpf': 85029980644, 'key': '355910523'}]}\n",
        "{'pessoa': 'ADIR STRAPASSON CAVASSIN***497019**', 'info': [{'nome': 'ADIR STRAPASSON CAVASSIN***497019**', 'cpf': 11149701900, 'key': '232121888'}, {'nome': 'ADIR STRAPASSON CAVASSIN***497019**', 'cpf': 1149701900, 'key': '336722894'}]}\n",
        "{'pessoa': 'ADRIANA APARECIDA DA SILVA***458908**', 'info': [{'nome': 'ADRIANA APARECIDA DA SILVA***458908**', 'cpf': 22445890802, 'key': '212131001'}, {'nome': 'ADRIANA APARECIDA DA SILVA***458908**', 'cpf': 11545890803, 'key': '326169753'}]}\n",
        "{'pessoa': 'ADRIANA APARECIDA DA SILVA***460788**', 'info': [{'nome': 'ADRIANA APARECIDA DA SILVA***460788**', 'cpf': 25446078829, 'key': '378383140'}, {'nome': 'ADRIANA APARECIDA DA SILVA***460788**', 'cpf': 16946078870, 'key': '402783325'}]}\n",
        "{'pessoa': 'ADRIANA APARECIDA DE SOUZA***080378**', 'info': [{'nome': 'ADRIANA APARECIDA DE SOUZA***080378**', 'cpf': 98608037815, 'key': '298862177'}, {'nome': 'ADRIANA APARECIDA DE SOUZA***080378**', 'cpf': 35008037846, 'key': '367999775'}]}\n",
        "{'pessoa': 'ADRIANA DA SILVA***843808**', 'info': [{'nome': 'ADRIANA DA SILVA***843808**', 'cpf': 16884380845, 'key': '290110162'}, {'nome': 'ADRIANA DA SILVA***843808**', 'cpf': 24684380866, 'key': '312325916'}]}\n",
        "{'pessoa': 'ADRIANA FERNANDES DA SILVA***095718**', 'info': [{'nome': 'ADRIANA FERNANDES DA SILVA***095718**', 'cpf': 36809571817, 'key': '363118927'}, {'nome': 'ADRIANA FERNANDES DA SILVA***095718**', 'cpf': 40109571827, 'key': '390374157'}]}\n",
        "{'pessoa': 'ADRIANA FERREIRA***669798**', 'info': [{'nome': 'ADRIANA FERREIRA***669798**', 'cpf': 6166979886, 'key': '295671136'}, {'nome': 'ADRIANA FERREIRA***669798**', 'cpf': 12066979899, 'key': '418506122'}]}\n",
        "{'pessoa': 'ADRIANA GOULART***388106**', 'info': [{'nome': 'ADRIANA GOULART***388106**', 'cpf': 93938810653, 'key': '278817679'}, {'nome': 'ADRIANA GOULART***388106**', 'cpf': 96038810668, 'key': '392220184'}]}\n",
        "'''\n",
        "#resultado limit 50\n",
        "'''\n",
        "{'pessoa': 'ADRIANA PEREIRA DA SILVA***784688**', 'info': [{'nome': 'ADRIANA PEREIRA DA SILVA***784688**', 'cpf': 14278468806, 'key': '311078550'}, {'nome': 'ADRIANA PEREIRA DA SILVA***784688**', 'cpf': 21678468860, 'key': '391915503'}]}\n",
        "{'pessoa': 'ADRIANA PEREIRA DE OLIVEIRA***136658**', 'info': [{'nome': 'ADRIANA PEREIRA DE OLIVEIRA***136658**', 'cpf': 34913665855, 'key': '261955107'}, {'nome': 'ADRIANA PEREIRA DE OLIVEIRA***136658**', 'cpf': 34713665800, 'key': '307942639'}]}\n",
        "{'pessoa': 'ADRIANO CARDOSO***708438**', 'info': [{'nome': 'ADRIANO CARDOSO***708438**', 'cpf': 29270843866, 'key': '343139183'}, {'nome': 'ADRIANO CARDOSO***708438**', 'cpf': 13870843802, 'key': '433234109'}]}\n",
        "{'pessoa': 'ADRIANO DE OLIVEIRA***347938**', 'info': [{'nome': 'ADRIANO DE OLIVEIRA***347938**', 'cpf': 32634793855, 'key': '317530109'}, {'nome': 'ADRIANO DE OLIVEIRA***347938**', 'cpf': 31434793885, 'key': '353872767'}]}\n",
        "{'pessoa': 'ADRIANO RECH***636639**', 'info': [{'nome': 'ADRIANO RECH***636639**', 'cpf': 6763663927, 'key': '299583810'}, {'nome': 'ADRIANO RECH***636639**', 'cpf': 55863663987, 'key': '317062754'}]}\n",
        "{'pessoa': 'AGNALDO DA SILVA***921871**', 'info': [{'nome': 'AGNALDO DA SILVA***921871**', 'cpf': 48792187153, 'key': '249099402'}, {'nome': 'AGNALDO DA SILVA***921871**', 'cpf': 81892187191, 'key': '393186771'}]}\n",
        "{'pessoa': 'AGUINALDO VILLAR COELHO***494077**', 'info': [{'nome': 'AGUINALDO VILLAR COELHO***494077**', 'cpf': 36449407700, 'key': '215645320'}, {'nome': 'AGUINALDO VILLAR COELHO***494077**', 'cpf': 26449407700, 'key': '397278778'}]}\n",
        "{'pessoa': 'AIDA SAMPAIO DE SOUZA***499912**', 'info': [{'nome': 'AIDA SAMPAIO DE SOUZA***499912**', 'cpf': 11849991200, 'key': '278628846'}, {'nome': 'AIDA SAMPAIO DE SOUZA***499912**', 'cpf': 1849991200, 'key': '341472053'}]}\n",
        "{'pessoa': 'AILTON CESAR BRAGA***829458**', 'info': [{'nome': 'AILTON CESAR BRAGA***829458**', 'cpf': 38482945831, 'key': '360902883'}, {'nome': 'AILTON CESAR BRAGA***829458**', 'cpf': 8482945807, 'key': '432265875'}]}\n",
        "{'pessoa': 'AILTON FRANCISCO DA SILVA***791394**', 'info': [{'nome': 'AILTON FRANCISCO DA SILVA***791394**', 'cpf': 70579139409, 'key': '314194235'}, {'nome': 'AILTON FRANCISCO DA SILVA***791394**', 'cpf': 65879139468, 'key': '341775459'}]}\n",
        "{'pessoa': 'AIRES IZOLAN***313730**', 'info': [{'nome': 'AIRES IZOLAN***313730**', 'cpf': 29531373000, 'key': '265188710'}, {'nome': 'AIRES IZOLAN***313730**', 'cpf': 19531373000, 'key': '398585585'}]}\n",
        "{'pessoa': 'ALCINEA PEDRO***423176**', 'info': [{'nome': 'ALCINEA PEDRO***423176**', 'cpf': 63142317600, 'key': '295930401'}, {'nome': 'ALCINEA PEDRO***423176**', 'cpf': 53142317600, 'key': '408494995'}]}\n",
        "{'pessoa': 'ALESSANDRO GONCALVES PEREIRA***631717**', 'info': [{'nome': 'ALESSANDRO GONCALVES PEREIRA***631717**', 'cpf': 1563171767, 'key': '241613869'}, {'nome': 'ALESSANDRO GONCALVES PEREIRA***631717**', 'cpf': 6163171748, 'key': '276518991'}]}\n",
        "{'pessoa': 'ALEXANDRA DOS SANTOS***416768**', 'info': [{'nome': 'ALEXANDRA DOS SANTOS***416768**', 'cpf': 35141676803, 'key': '315119157'}, {'nome': 'ALEXANDRA DOS SANTOS***416768**', 'cpf': 16641676846, 'key': '316796653'}]}\n",
        "{'pessoa': 'ALEXANDRE ALVES FERNANDES***836898**', 'info': [{'nome': 'ALEXANDRE ALVES FERNANDES***836898**', 'cpf': 39483689880, 'key': '232854146'}, {'nome': 'ALEXANDRE ALVES FERNANDES***836898**', 'cpf': 33283689814, 'key': '337433449'}]}\n",
        "{'pessoa': 'ALEXANDRE BALDAQUE GUIMARAES***134317**', 'info': [{'nome': 'ALEXANDRE BALDAQUE GUIMARAES***134317**', 'cpf': 2113431700, 'key': '209620004'}, {'nome': 'ALEXANDRE BALDAQUE GUIMARAES***134317**', 'cpf': 1213431700, 'key': '333700258'}]}\n",
        "{'pessoa': 'ALEXANDRE BARBOSA DA SILVA***289257**', 'info': [{'nome': 'ALEXANDRE BARBOSA DA SILVA***289257**', 'cpf': 4628925739, 'key': '237604599'}, {'nome': 'ALEXANDRE BARBOSA DA SILVA***289257**', 'cpf': 2428925741, 'key': '370663434'}]}\n",
        "{'pessoa': 'ALEXANDRE DOS ANJOS***357879**', 'info': [{'nome': 'ALEXANDRE DOS ANJOS***357879**', 'cpf': 3835787950, 'key': '274392225'}, {'nome': 'ALEXANDRE DOS ANJOS***357879**', 'cpf': 5635787932, 'key': '281865930'}]}\n",
        "{'pessoa': 'ALEXANDRE PEREIRA DA SILVA***194948**', 'info': [{'nome': 'ALEXANDRE PEREIRA DA SILVA***194948**', 'cpf': 31519494874, 'key': '294407633'}, {'nome': 'ALEXANDRE PEREIRA DA SILVA***194948**', 'cpf': 22519494883, 'key': '313701376'}]}\n",
        "{'pessoa': 'ALEXANDRE RODRIGUES DE OLIVEIRA***806236**', 'info': [{'nome': 'ALEXANDRE RODRIGUES DE OLIVEIRA***806236**', 'cpf': 3980623661, 'key': '332406755'}, {'nome': 'ALEXANDRE RODRIGUES DE OLIVEIRA***806236**', 'cpf': 13680623690, 'key': '336329315'}]}\n",
        "{'pessoa': 'ALEXANDRE SILVA GOYER***291087**', 'info': [{'nome': 'ALEXANDRE SILVA GOYER***291087**', 'cpf': 76629108736, 'key': '246594658'}, {'nome': 'ALEXANDRE SILVA GOYER***291087**', 'cpf': 77629108753, 'key': '355739157'}]}\n",
        "{'pessoa': 'ALEXANDRE SILVA***361878**', 'info': [{'nome': 'ALEXANDRE SILVA***361878**', 'cpf': 14936187844, 'key': '258769214'}, {'nome': 'ALEXANDRE SILVA***361878**', 'cpf': 14336187886, 'key': '392522987'}]}\n",
        "{'pessoa': 'ALEZANDRO PINHEIRO GONCALVES***277119**', 'info': [{'nome': 'ALEZANDRO PINHEIRO GONCALVES***277119**', 'cpf': 29427711949, 'key': '257009628'}, {'nome': 'ALEZANDRO PINHEIRO GONCALVES***277119**', 'cpf': 39427711957, 'key': '296502642'}]}\n",
        "{'pessoa': 'ALFREDO VENTURINI VIEIRA***966510**', 'info': [{'nome': 'ALFREDO VENTURINI VIEIRA***966510**', 'cpf': 696651092, 'key': '359447222'}, {'nome': 'ALFREDO VENTURINI VIEIRA***966510**', 'cpf': 6696651004, 'key': '394002463'}]}\n",
        "{'pessoa': 'ALICE FERREIRA DOS SANTOS***018446**', 'info': [{'nome': 'ALICE FERREIRA DOS SANTOS***018446**', 'cpf': 49501844668, 'key': '284494018'}, {'nome': 'ALICE FERREIRA DOS SANTOS***018446**', 'cpf': 50501844600, 'key': '377540622'}]}\n",
        "{'pessoa': 'ALINE MORAES DA SILVA***470717**', 'info': [{'nome': 'ALINE MORAES DA SILVA***470717**', 'cpf': 16847071702, 'key': '245407029'}, {'nome': 'ALINE MORAES DA SILVA***470717**', 'cpf': 4147071767, 'key': '284906574'}]}\n",
        "{'pessoa': 'ALMIR PEREIRA GOMES***263447**', 'info': [{'nome': 'ALMIR PEREIRA GOMES***263447**', 'cpf': 51026344700, 'key': '262304746'}, {'nome': 'ALMIR PEREIRA GOMES***263447**', 'cpf': 61026344700, 'key': '307799456'}]}\n",
        "{'pessoa': 'ALUISIO ROCHA DA SILVA***100587**', 'info': [{'nome': 'ALUISIO ROCHA DA SILVA***100587**', 'cpf': 77810058720, 'key': '267478116'}, {'nome': 'ALUISIO ROCHA DA SILVA***100587**', 'cpf': 78810058747, 'key': '388880570'}]}\n",
        "{'pessoa': 'ALVACI GONCALVES DOS SANTOS***625200**', 'info': [{'nome': 'ALVACI GONCALVES DOS SANTOS***625200**', 'cpf': 39062520006, 'key': '216236526'}, {'nome': 'ALVACI GONCALVES DOS SANTOS***625200**', 'cpf': 29062520006, 'key': '330468180'}]}\n",
        "{'pessoa': 'ALVARO CARDOSO***407858**', 'info': [{'nome': 'ALVARO CARDOSO***407858**', 'cpf': 83340785872, 'key': '214977349'}, {'nome': 'ALVARO CARDOSO***407858**', 'cpf': 25540785800, 'key': '273073624'}]}\n",
        "'''"
      ],
      "execution_count": null,
      "outputs": []
    },
    {
      "cell_type": "markdown",
      "metadata": {
        "id": "dGtTRQ-29Hkj"
      },
      "source": [
        "## Printar edges coleção Owns\n"
      ]
    },
    {
      "cell_type": "code",
      "metadata": {
        "id": "Ci3jJl1K9Hks"
      },
      "source": [
        "# teste criar relações PJ PJ v0\n",
        "\n",
        "#v0 - retornar relação com output  \n",
        "\n",
        "db = conn[\"aura_database\"]\n",
        "\n",
        "aql = ''' \n",
        "// Declarar as coleções FOR loop interior\n",
        "WITH PJ \n",
        "\n",
        "// Transforma os dados de Socios para compativel com PJ por comparação de cnpj\n",
        "\n",
        "FOR socio in @@socios_collection\n",
        "SORT socio._key asc \n",
        "\n",
        "filter socio.tipo_socio.codigo == \"1\"\n",
        "\n",
        "let socio_cnpj_to =socio.cnpj\n",
        "let socio_uniqueID = socio.uniqueID\n",
        "let socio_cnpj_from = TO_STRING(TO_NUMBER(socio.cpf_cnpj_socio))\n",
        "\n",
        "// Encontrar socio baseado em tipo socio\n",
        "let pj_to = FIRST( FOR pj in PJ\n",
        "                filter socio_cnpj_to == pj.cnpj\n",
        "                return pj._id)\n",
        "\n",
        "let pj_from = FIRST( FOR pj in PJ\n",
        "                filter socio.tipo_socio.codigo == \"1\" \n",
        "                filter socio_cnpj_from == pj.cnpj\n",
        "                return pj._id)\n",
        "\n",
        "\t\n",
        "\n",
        "limit 2 //limit para testes \n",
        "return {_to:pj_to, _from:pj_from,tipo_socio:socio.tipo_socio, qualificacao_socio:socio.qualificacao_socio}\n",
        "'''\n",
        "\n",
        "#queryResult = db.AQLQuery(aql,rawResults=True)\n",
        " \n",
        "#socios 0 - 7\n",
        "for i in range(8):\n",
        "  socio = \"Socios\"+str(i)\n",
        "  bindVar = {\"@socios_collection\":socio}\n",
        "  print(bindVar)\n",
        "  queryResult = db.AQLQuery(aql,rawResults=True,bindVars=bindVar)\n",
        "  for key in queryResult:\n",
        "    print(key)\n",
        "\n",
        " \n"
      ],
      "execution_count": null,
      "outputs": []
    },
    {
      "cell_type": "code",
      "metadata": {
        "id": "7vwIXDn8UpMW"
      },
      "source": [
        "# teste relações PJ PJ com algum pj faltante \n",
        "\n",
        "#v0 - retornar relação com output  \n",
        "\n",
        "db = conn[\"aura_database\"]\n",
        "\n",
        "aql = ''' WITH PJ \n",
        "\n",
        "// Transforma os dados de Socios para compativel com PJ por comparação de cnpj\n",
        "\n",
        "FOR socio in @@socios_collection\n",
        "SORT socio._key asc \n",
        "limit 11,1000\n",
        "filter socio.tipo_socio.codigo == \"1\"\n",
        "\n",
        "let socio_cnpj_to =socio.cnpj\n",
        "let socio_uniqueID = socio.uniqueID\n",
        "let socio_cnpj_from = TO_STRING(TO_NUMBER(socio.cpf_cnpj_socio))\n",
        "\n",
        "// Encontrar socio baseado em tipo socio\n",
        "let pj_to = FIRST( FOR pj in PJ\n",
        "                filter socio_cnpj_to == pj.cnpj\n",
        "                return pj._id)\n",
        "\n",
        "let pj_from = FIRST( FOR pj in PJ\n",
        "                filter socio.tipo_socio.codigo == \"1\" \n",
        "                filter socio_cnpj_from == pj.cnpj\n",
        "                return pj._id)\n",
        "\n",
        "\t\n",
        "filter  pj_to == null or pj_from == null\n",
        "\n",
        "limit 200 //limit para testes \n",
        "\n",
        "return {socio:socio,_to:pj_to, _from:pj_from,tipo_socio:socio.tipo_socio, qualificacao_socio:socio.qualificacao_socio}\n",
        "\n",
        "'''\n",
        "\n",
        "#queryResult = db.AQLQuery(aql,rawResults=True)\n",
        " \n",
        "#socios 0 - 7\n",
        "for i in range(8):\n",
        "  socio = \"Socios\"+str(i)\n",
        "  bindVar = {\"@socios_collection\":socio}\n",
        "  print(bindVar)\n",
        "  queryResult = db.AQLQuery(aql,rawResults=True,bindVars=bindVar)\n",
        "  for key in queryResult:\n",
        "    print(key)\n",
        "\n",
        " \n"
      ],
      "execution_count": null,
      "outputs": []
    },
    {
      "cell_type": "code",
      "metadata": {
        "id": "1h_RX9KP9Hkt"
      },
      "source": [
        "# teste criar relações PJ PE \n",
        "\n",
        "db = conn[\"aura_database\"]\n",
        "\n",
        "aql = ''' \n",
        "// Declarar as coleções FOR loop interior\n",
        "WITH PJ, PE \n",
        "\n",
        "FOR socio in @@socios_collection\n",
        "SORT socio._key asc \n",
        "\n",
        "filter socio.tipo_socio.codigo == \"3\"\n",
        "\n",
        "let socio_cnpj_to = socio.cnpj\n",
        "let socio_uniqueID_from = socio.uniqueID\n",
        "\n",
        "// Encontrar socio baseado em tipo socio\n",
        "let pj_to = FIRST( FOR pj in PJ\n",
        "                filter socio_cnpj_to == pj.cnpj\n",
        "                return pj._id)\n",
        "\n",
        "let pe_from =FIRST( FOR pe in PE\n",
        "                    filter socio_uniqueID_from == pe.uniqueID\n",
        "                    return pe._id )\n",
        " \n",
        "\n",
        "\n",
        "//limit 2 //limit para testes \n",
        "return {_to:pj_to, _from:pe_from,tipo_socio:socio.tipo_socio, qualificacao_socio:socio.qualificacao_socio}\n",
        "'''\n",
        "#socios 0 - 7\n",
        "for i in range(8):\n",
        "  socio = \"Socios\"+str(i)\n",
        "  bindVar = {\"@socios_collection\":socio}\n",
        "  print(bindVar)\n",
        "  queryResult = db.AQLQuery(aql,rawResults=True,bindVars=bindVar)\n",
        "  for key in queryResult:\n",
        "    print(key)\n",
        " \n"
      ],
      "execution_count": null,
      "outputs": []
    },
    {
      "cell_type": "code",
      "metadata": {
        "colab": {
          "base_uri": "https://localhost:8080/"
        },
        "id": "u7HPpc_g9Hkt",
        "outputId": "c47cea9d-17ba-47ca-e9eb-9ee34cbb96de"
      },
      "source": [
        "# teste criar relações PJ PF [FAZER SOLUÇÂO PARA HOMONIMOS ANTES]\n",
        "\n",
        "db = conn[\"aura_database\"]\n",
        "\n",
        "aql = ''' \n",
        "// Declarar as coleções FOR loop exteriror\n",
        "WITH PJ ,  PF  \n",
        "\n",
        "FOR socio in @@socios_collection\n",
        "SORT socio._key asc \n",
        "\n",
        "filter socio.tipo_socio.codigo == \"2\"\n",
        "\n",
        "// Transforma os dados de Socios para compativel com PJ por comparação de cnpj\n",
        "let socio_cnpj_to =  socio.cnpj \n",
        "let socio_uniqueID_from = socio.uniqueID\n",
        "\n",
        "// Encontrar socio baseado em tipo socio\n",
        "let pj_to = FIRST( FOR pj in PJ\n",
        "                filter socio_cnpj_to == pj.cnpj\n",
        "                return pj._id)\n",
        " \n",
        "\n",
        "let pf_from =FIRST( FOR pf in PF               \n",
        "                filter socio_uniqueID_from == pf.socio_id\n",
        "                return pf._id)\n",
        "\n",
        "\n",
        "limit 2 //limit para testes \n",
        "return {_to:pj_to, _from:pf_from , tipo_socio:socio.tipo_socio, qualificacao_socio:socio.qualificacao_socio}\n",
        "'''\n",
        "#socios 0 - 7\n",
        "for i in range(8):\n",
        "  socio = \"Socios\"+str(i)\n",
        "  bindVar = {\"@socios_collection\":socio}\n",
        "  print(bindVar)\n",
        "  queryResult = db.AQLQuery(aql,rawResults=True,bindVars=bindVar)\n",
        "  for key in queryResult:\n",
        "    print(key)\n",
        " \n",
        "\n"
      ],
      "execution_count": null,
      "outputs": [
        {
          "output_type": "stream",
          "name": "stdout",
          "text": [
            "{'@socios_collection': 'Socios0'}\n",
            "{'_to': 'PJ/538624769', '_from': 'PF/345560483', 'tipo_socio': {'codigo': '2', 'descricao': 'Pessoa Física'}, 'qualificacao_socio': {'codigo': '28', 'descricao': 'Sócio-Gerente'}}\n",
            "{'_to': 'PJ/507968508', '_from': 'PF/253019888', 'tipo_socio': {'codigo': '2', 'descricao': 'Pessoa Física'}, 'qualificacao_socio': {'codigo': '28', 'descricao': 'Sócio-Gerente'}}\n",
            "{'@socios_collection': 'Socios1'}\n",
            "{'_to': 'PJ/509196846', '_from': 'PF/348173447', 'tipo_socio': {'codigo': '2', 'descricao': 'Pessoa Física'}, 'qualificacao_socio': {'codigo': '18', 'descricao': 'Secretário'}}\n",
            "{'_to': 'PJ/537251158', '_from': 'PF/357452448', 'tipo_socio': {'codigo': '2', 'descricao': 'Pessoa Física'}, 'qualificacao_socio': {'codigo': '31', 'descricao': 'Sócio Ostensivo'}}\n",
            "{'@socios_collection': 'Socios2'}\n",
            "{'_to': 'PJ/530907822', '_from': 'PF/390980916', 'tipo_socio': {'codigo': '2', 'descricao': 'Pessoa Física'}, 'qualificacao_socio': {'codigo': '38', 'descricao': 'Sócio Pessoa Física Residente ou Domiciliado no Exterior'}}\n",
            "{'_to': 'PJ/503086517', '_from': 'PF/263032236', 'tipo_socio': {'codigo': '2', 'descricao': 'Pessoa Física'}, 'qualificacao_socio': {'codigo': '53', 'descricao': 'Sócio sem Capital'}}\n",
            "{'@socios_collection': 'Socios3'}\n",
            "{'_to': 'PJ/516932655', '_from': 'PF/401446659', 'tipo_socio': {'codigo': '2', 'descricao': 'Pessoa Física'}, 'qualificacao_socio': {'codigo': '52', 'descricao': 'Sócio com Capital'}}\n",
            "{'_to': 'PJ/538914422', '_from': 'PF/428100113', 'tipo_socio': {'codigo': '2', 'descricao': 'Pessoa Física'}, 'qualificacao_socio': {'codigo': '38', 'descricao': 'Sócio Pessoa Física Residente ou Domiciliado no Exterior'}}\n",
            "{'@socios_collection': 'Socios4'}\n",
            "{'_to': 'PJ/530485757', '_from': 'PF/387564501', 'tipo_socio': {'codigo': '2', 'descricao': 'Pessoa Física'}, 'qualificacao_socio': {'codigo': '52', 'descricao': 'Sócio com Capital'}}\n",
            "{'_to': 'PJ/536666069', '_from': 'PF/327655107', 'tipo_socio': {'codigo': '2', 'descricao': 'Pessoa Física'}, 'qualificacao_socio': {'codigo': '28', 'descricao': 'Sócio-Gerente'}}\n",
            "{'@socios_collection': 'Socios5'}\n",
            "{'_to': 'PJ/536660996', '_from': 'PF/357186621', 'tipo_socio': {'codigo': '2', 'descricao': 'Pessoa Física'}, 'qualificacao_socio': {'codigo': '28', 'descricao': 'Sócio-Gerente'}}\n",
            "{'_to': 'PJ/505707432', '_from': 'PF/300132290', 'tipo_socio': {'codigo': '2', 'descricao': 'Pessoa Física'}, 'qualificacao_socio': {'codigo': '28', 'descricao': 'Sócio-Gerente'}}\n",
            "{'@socios_collection': 'Socios6'}\n",
            "{'_to': 'PJ/539950357', '_from': 'PF/419809541', 'tipo_socio': {'codigo': '2', 'descricao': 'Pessoa Física'}, 'qualificacao_socio': {'codigo': '52', 'descricao': 'Sócio com Capital'}}\n",
            "{'_to': 'PJ/540437334', '_from': 'PF/425144625', 'tipo_socio': {'codigo': '2', 'descricao': 'Pessoa Física'}, 'qualificacao_socio': {'codigo': '24', 'descricao': 'Sócio Comanditado'}}\n",
            "{'@socios_collection': 'Socios7'}\n",
            "{'_to': 'PJ/497942869', '_from': 'PF/355887173', 'tipo_socio': {'codigo': '2', 'descricao': 'Pessoa Física'}, 'qualificacao_socio': {'codigo': '28', 'descricao': 'Sócio-Gerente'}}\n",
            "{'_to': 'PJ/537579616', '_from': 'PF/363829101', 'tipo_socio': {'codigo': '2', 'descricao': 'Pessoa Física'}, 'qualificacao_socio': {'codigo': '38', 'descricao': 'Sócio Pessoa Física Residente ou Domiciliado no Exterior'}}\n"
          ]
        }
      ]
    }
  ]
}